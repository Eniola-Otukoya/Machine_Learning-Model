{
 "cells": [
  {
   "cell_type": "markdown",
   "id": "41fd22f2-50e9-4af2-a1c6-838e00822850",
   "metadata": {},
   "source": [
    "# SUPPORT VECTOR MACHINE\n",
    "\n",
    " \n",
    " What You're Aiming For\n",
    "\n",
    "In this checkpoint, we are going to work on the 'Electric Vehicle Data' dataset that was provided by Kaggle as part of the Electric Vehicle Price Prediction competition.\n",
    "\n",
    "Dataset description: This dataset contains information on the Battery Electric Vehicles (BEVs) and Plug-in Hybrid Electric Vehicles (PHEVs) that are currently registered with the Washington State Department of Licensing (DOL). This dataset was introduced as part of an official invitation-based competition on Kaggle. Our SVM model should answer the question \"This is my car's model & make, along with a few other parameters, what price can this vehicle be brought or sold?”\n",
    "\n",
    "➡️ Dataset link\n",
    "\n",
    "https://i.imgur.com/IpuCW3s.jpg\n",
    "\n",
    "➡️Columns explanation \n",
    "\n",
    " "
   ]
  },
  {
   "cell_type": "markdown",
   "id": "8944e4c4-ed14-4b53-9da6-76201b262e64",
   "metadata": {},
   "source": [
    "Import you data and perform basic data exploration phase\n",
    "\n",
    "    Display general information about the dataset\n",
    "\n",
    "    Create a pandas profiling reports to gain insights into the dataset\n",
    "\n",
    "    Handle Missing and corrupted values\n",
    "\n",
    "    Remove duplicates, if they exist\n",
    "\n",
    "    Handle outliers, if they exist\n",
    "\n",
    "    Encode categorical features\n",
    "\n",
    "Select your target variable and the features\n",
    "\n",
    "Split your dataset to training and test sets\n",
    "\n",
    "Build and train an SVM model on the training set\n",
    "\n",
    "Assess your model performance on the test set using relevant evaluation metrics\n",
    "\n",
    "Discuss with your cohort alternative ways to improve your model performance"
   ]
  },
  {
   "cell_type": "markdown",
   "id": "38a1173d-2238-4c1e-9c03-5269dc836a94",
   "metadata": {},
   "source": [
    "To work on the 'Electric Vehicle Data' dataset for predicting vehicle prices using an SVM model, you can follow the steps outlined in your instructions. Below is a structured approach to accomplish this task using Python and libraries such as Pandas, NumPy, Scikit-learn, and others."
   ]
  },
  {
   "cell_type": "markdown",
   "id": "c98b7506-a517-4848-aa8b-0b14da8feff4",
   "metadata": {},
   "source": [
    "### Step 1: Import Libraries and Load Data"
   ]
  },
  {
   "cell_type": "code",
   "execution_count": 1,
   "id": "51006b7b-24e5-4cf1-b3fa-83477f6609d2",
   "metadata": {},
   "outputs": [
    {
     "name": "stderr",
     "output_type": "stream",
     "text": [
      "C:\\Users\\User\\AppData\\Local\\Temp\\ipykernel_23764\\1791543472.py:15: DeprecationWarning: `import pandas_profiling` is going to be deprecated by April 1st. Please use `import ydata_profiling` instead.\n",
      "  from pandas_profiling import ProfileReport\n"
     ]
    }
   ],
   "source": [
    "import pandas as pd\n",
    "\n",
    "import numpy as np\n",
    "\n",
    "import matplotlib.pyplot as plt\n",
    "\n",
    "import seaborn as sns\n",
    "\n",
    "from sklearn.model_selection import train_test_split\n",
    "\n",
    "from sklearn.svm import SVR\n",
    "\n",
    "from sklearn.metrics import mean_squared_error, r2_score\n",
    "\n",
    "from pandas_profiling import ProfileReport"
   ]
  },
  {
   "cell_type": "code",
   "execution_count": 2,
   "id": "ccd6b6d3-0b1b-4e8b-8f55-a7ef61f65bd7",
   "metadata": {},
   "outputs": [],
   "source": [
    "# Load the dataset\n",
    "\n",
    "url = (r\"C:\\Users\\User\\Desktop\\gomycode\\Machine Learning\\Electric_cars_dataset.csv\")  \n",
    "\n",
    "data = pd.read_csv(url)"
   ]
  },
  {
   "cell_type": "markdown",
   "id": "8bcf8c74-eb7c-4f4d-bc4d-8c8be423f1e4",
   "metadata": {},
   "source": [
    "### Step 2: Basic Data Exploration\n",
    "Display General Information"
   ]
  },
  {
   "cell_type": "code",
   "execution_count": 4,
   "id": "95f7bc0b-c9c5-4ee5-8611-67192dedf2a6",
   "metadata": {},
   "outputs": [
    {
     "name": "stdout",
     "output_type": "stream",
     "text": [
      "<class 'pandas.core.frame.DataFrame'>\n",
      "RangeIndex: 64353 entries, 0 to 64352\n",
      "Data columns (total 18 columns):\n",
      " #   Column                                             Non-Null Count  Dtype  \n",
      "---  ------                                             --------------  -----  \n",
      " 0   ID                                                 64353 non-null  object \n",
      " 1   VIN (1-10)                                         64353 non-null  object \n",
      " 2   County                                             64349 non-null  object \n",
      " 3   City                                               64344 non-null  object \n",
      " 4   State                                              64342 non-null  object \n",
      " 5   ZIP Code                                           64347 non-null  float64\n",
      " 6   Model Year                                         64346 non-null  float64\n",
      " 7   Make                                               64349 non-null  object \n",
      " 8   Model                                              64340 non-null  object \n",
      " 9   Electric Vehicle Type                              64353 non-null  object \n",
      " 10  Clean Alternative Fuel Vehicle (CAFV) Eligibility  64353 non-null  object \n",
      " 11  Electric Range                                     64353 non-null  int64  \n",
      " 12  Base MSRP                                          64353 non-null  int64  \n",
      " 13  Legislative District                               64184 non-null  float64\n",
      " 14  DOL Vehicle ID                                     64353 non-null  int64  \n",
      " 15  Vehicle Location                                   63843 non-null  object \n",
      " 16  Electric Utility                                   63631 non-null  object \n",
      " 17  Expected Price ($1k)                               64353 non-null  object \n",
      "dtypes: float64(3), int64(3), object(12)\n",
      "memory usage: 8.8+ MB\n",
      "None\n",
      "           ZIP Code    Model Year  Electric Range      Base MSRP  \\\n",
      "count  64347.000000  64346.000000    64353.000000   64353.000000   \n",
      "mean   98143.452888   2018.186212      106.948985    2524.990754   \n",
      "std     2856.064329      2.726742      104.093919   12402.895104   \n",
      "min      745.000000   1993.000000        0.000000       0.000000   \n",
      "25%    98052.000000   2017.000000       14.000000       0.000000   \n",
      "50%    98121.000000   2018.000000       73.000000       0.000000   \n",
      "75%    98370.000000   2021.000000      215.000000       0.000000   \n",
      "max    99701.000000   2022.000000      337.000000  845000.000000   \n",
      "\n",
      "       Legislative District  DOL Vehicle ID  \n",
      "count          64184.000000    6.435300e+04  \n",
      "mean              29.951904    1.972905e+08  \n",
      "std               14.661124    1.069466e+08  \n",
      "min                0.000000    4.385000e+03  \n",
      "25%               19.000000    1.372865e+08  \n",
      "50%               34.000000    1.753776e+08  \n",
      "75%               43.000000    2.299039e+08  \n",
      "max               49.000000    4.789346e+08  \n"
     ]
    }
   ],
   "source": [
    "# Display general information about the dataset\n",
    "\n",
    "print(data.info())\n",
    "\n",
    "print(data.describe())"
   ]
  },
  {
   "cell_type": "markdown",
   "id": "58824aea-d166-4bbf-b5dc-86b8e063cb94",
   "metadata": {},
   "source": [
    "* Create a Pandas Profiling Report"
   ]
  },
  {
   "cell_type": "code",
   "execution_count": 7,
   "id": "5d35bcf3-6d23-443c-82c8-fe9d344ca433",
   "metadata": {},
   "outputs": [
    {
     "data": {
      "application/vnd.jupyter.widget-view+json": {
       "model_id": "a5aa64e59a47444a93435a037961c470",
       "version_major": 2,
       "version_minor": 0
      },
      "text/plain": [
       "Summarize dataset:   0%|          | 0/5 [00:00<?, ?it/s]"
      ]
     },
     "metadata": {},
     "output_type": "display_data"
    },
    {
     "data": {
      "application/vnd.jupyter.widget-view+json": {
       "model_id": "c51815ca8722494da61831bd6216f751",
       "version_major": 2,
       "version_minor": 0
      },
      "text/plain": [
       "Generate report structure:   0%|          | 0/1 [00:00<?, ?it/s]"
      ]
     },
     "metadata": {},
     "output_type": "display_data"
    },
    {
     "data": {
      "application/vnd.jupyter.widget-view+json": {
       "model_id": "fa6996fcb7c94aae9bfaa3cc5b99487e",
       "version_major": 2,
       "version_minor": 0
      },
      "text/plain": [
       "Render HTML:   0%|          | 0/1 [00:00<?, ?it/s]"
      ]
     },
     "metadata": {},
     "output_type": "display_data"
    },
    {
     "data": {
      "application/vnd.jupyter.widget-view+json": {
       "model_id": "166434fd8bfa4e4d95671963ceb6a200",
       "version_major": 2,
       "version_minor": 0
      },
      "text/plain": [
       "Export report to file:   0%|          | 0/1 [00:00<?, ?it/s]"
      ]
     },
     "metadata": {},
     "output_type": "display_data"
    }
   ],
   "source": [
    "# Create a profiling report\n",
    "\n",
    "profile = ProfileReport(data, title=\"Pandas Profiling Report\", explorative=True)\n",
    "\n",
    "profile.to_file(\"electric_vehicle_data_report.html\")  # Save the report"
   ]
  },
  {
   "cell_type": "markdown",
   "id": "85a1e026-a92e-4167-bee5-fd37a118dec1",
   "metadata": {},
   "source": [
    "### Step 3: Handle Missing and Corrupted Values"
   ]
  },
  {
   "cell_type": "code",
   "execution_count": 11,
   "id": "13a759a4-490b-4f81-a0b7-2a0f4db350a0",
   "metadata": {},
   "outputs": [
    {
     "name": "stdout",
     "output_type": "stream",
     "text": [
      "County                    4\n",
      "City                      9\n",
      "State                    11\n",
      "ZIP Code                  6\n",
      "Model Year                7\n",
      "Make                      4\n",
      "Model                    13\n",
      "Legislative District    169\n",
      "Vehicle Location        510\n",
      "Electric Utility        722\n",
      "dtype: int64\n"
     ]
    },
    {
     "ename": "TypeError",
     "evalue": "can only concatenate str (not \"int\") to str",
     "output_type": "error",
     "traceback": [
      "\u001b[1;31m---------------------------------------------------------------------------\u001b[0m",
      "\u001b[1;31mTypeError\u001b[0m                                 Traceback (most recent call last)",
      "Cell \u001b[1;32mIn[11], line 10\u001b[0m\n\u001b[0;32m      5\u001b[0m \u001b[38;5;28mprint\u001b[39m(missing_values[missing_values \u001b[38;5;241m>\u001b[39m \u001b[38;5;241m0\u001b[39m])\n\u001b[0;32m      8\u001b[0m \u001b[38;5;66;03m# Handle missing values (example: fill with mean or drop)\u001b[39;00m\n\u001b[1;32m---> 10\u001b[0m data\u001b[38;5;241m.\u001b[39mfillna(data\u001b[38;5;241m.\u001b[39mmean(), inplace\u001b[38;5;241m=\u001b[39m\u001b[38;5;28;01mTrue\u001b[39;00m)\n",
      "File \u001b[1;32m~\\anaconda3\\Lib\\site-packages\\pandas\\core\\frame.py:11693\u001b[0m, in \u001b[0;36mDataFrame.mean\u001b[1;34m(self, axis, skipna, numeric_only, **kwargs)\u001b[0m\n\u001b[0;32m  11685\u001b[0m \u001b[38;5;129m@doc\u001b[39m(make_doc(\u001b[38;5;124m\"\u001b[39m\u001b[38;5;124mmean\u001b[39m\u001b[38;5;124m\"\u001b[39m, ndim\u001b[38;5;241m=\u001b[39m\u001b[38;5;241m2\u001b[39m))\n\u001b[0;32m  11686\u001b[0m \u001b[38;5;28;01mdef\u001b[39;00m \u001b[38;5;21mmean\u001b[39m(\n\u001b[0;32m  11687\u001b[0m     \u001b[38;5;28mself\u001b[39m,\n\u001b[1;32m   (...)\u001b[0m\n\u001b[0;32m  11691\u001b[0m     \u001b[38;5;241m*\u001b[39m\u001b[38;5;241m*\u001b[39mkwargs,\n\u001b[0;32m  11692\u001b[0m ):\n\u001b[1;32m> 11693\u001b[0m     result \u001b[38;5;241m=\u001b[39m \u001b[38;5;28msuper\u001b[39m()\u001b[38;5;241m.\u001b[39mmean(axis, skipna, numeric_only, \u001b[38;5;241m*\u001b[39m\u001b[38;5;241m*\u001b[39mkwargs)\n\u001b[0;32m  11694\u001b[0m     \u001b[38;5;28;01mif\u001b[39;00m \u001b[38;5;28misinstance\u001b[39m(result, Series):\n\u001b[0;32m  11695\u001b[0m         result \u001b[38;5;241m=\u001b[39m result\u001b[38;5;241m.\u001b[39m__finalize__(\u001b[38;5;28mself\u001b[39m, method\u001b[38;5;241m=\u001b[39m\u001b[38;5;124m\"\u001b[39m\u001b[38;5;124mmean\u001b[39m\u001b[38;5;124m\"\u001b[39m)\n",
      "File \u001b[1;32m~\\anaconda3\\Lib\\site-packages\\pandas\\core\\generic.py:12420\u001b[0m, in \u001b[0;36mNDFrame.mean\u001b[1;34m(self, axis, skipna, numeric_only, **kwargs)\u001b[0m\n\u001b[0;32m  12413\u001b[0m \u001b[38;5;28;01mdef\u001b[39;00m \u001b[38;5;21mmean\u001b[39m(\n\u001b[0;32m  12414\u001b[0m     \u001b[38;5;28mself\u001b[39m,\n\u001b[0;32m  12415\u001b[0m     axis: Axis \u001b[38;5;241m|\u001b[39m \u001b[38;5;28;01mNone\u001b[39;00m \u001b[38;5;241m=\u001b[39m \u001b[38;5;241m0\u001b[39m,\n\u001b[1;32m   (...)\u001b[0m\n\u001b[0;32m  12418\u001b[0m     \u001b[38;5;241m*\u001b[39m\u001b[38;5;241m*\u001b[39mkwargs,\n\u001b[0;32m  12419\u001b[0m ) \u001b[38;5;241m-\u001b[39m\u001b[38;5;241m>\u001b[39m Series \u001b[38;5;241m|\u001b[39m \u001b[38;5;28mfloat\u001b[39m:\n\u001b[1;32m> 12420\u001b[0m     \u001b[38;5;28;01mreturn\u001b[39;00m \u001b[38;5;28mself\u001b[39m\u001b[38;5;241m.\u001b[39m_stat_function(\n\u001b[0;32m  12421\u001b[0m         \u001b[38;5;124m\"\u001b[39m\u001b[38;5;124mmean\u001b[39m\u001b[38;5;124m\"\u001b[39m, nanops\u001b[38;5;241m.\u001b[39mnanmean, axis, skipna, numeric_only, \u001b[38;5;241m*\u001b[39m\u001b[38;5;241m*\u001b[39mkwargs\n\u001b[0;32m  12422\u001b[0m     )\n",
      "File \u001b[1;32m~\\anaconda3\\Lib\\site-packages\\pandas\\core\\generic.py:12377\u001b[0m, in \u001b[0;36mNDFrame._stat_function\u001b[1;34m(self, name, func, axis, skipna, numeric_only, **kwargs)\u001b[0m\n\u001b[0;32m  12373\u001b[0m nv\u001b[38;5;241m.\u001b[39mvalidate_func(name, (), kwargs)\n\u001b[0;32m  12375\u001b[0m validate_bool_kwarg(skipna, \u001b[38;5;124m\"\u001b[39m\u001b[38;5;124mskipna\u001b[39m\u001b[38;5;124m\"\u001b[39m, none_allowed\u001b[38;5;241m=\u001b[39m\u001b[38;5;28;01mFalse\u001b[39;00m)\n\u001b[1;32m> 12377\u001b[0m \u001b[38;5;28;01mreturn\u001b[39;00m \u001b[38;5;28mself\u001b[39m\u001b[38;5;241m.\u001b[39m_reduce(\n\u001b[0;32m  12378\u001b[0m     func, name\u001b[38;5;241m=\u001b[39mname, axis\u001b[38;5;241m=\u001b[39maxis, skipna\u001b[38;5;241m=\u001b[39mskipna, numeric_only\u001b[38;5;241m=\u001b[39mnumeric_only\n\u001b[0;32m  12379\u001b[0m )\n",
      "File \u001b[1;32m~\\anaconda3\\Lib\\site-packages\\pandas\\core\\frame.py:11562\u001b[0m, in \u001b[0;36mDataFrame._reduce\u001b[1;34m(self, op, name, axis, skipna, numeric_only, filter_type, **kwds)\u001b[0m\n\u001b[0;32m  11558\u001b[0m     df \u001b[38;5;241m=\u001b[39m df\u001b[38;5;241m.\u001b[39mT\n\u001b[0;32m  11560\u001b[0m \u001b[38;5;66;03m# After possibly _get_data and transposing, we are now in the\u001b[39;00m\n\u001b[0;32m  11561\u001b[0m \u001b[38;5;66;03m#  simple case where we can use BlockManager.reduce\u001b[39;00m\n\u001b[1;32m> 11562\u001b[0m res \u001b[38;5;241m=\u001b[39m df\u001b[38;5;241m.\u001b[39m_mgr\u001b[38;5;241m.\u001b[39mreduce(blk_func)\n\u001b[0;32m  11563\u001b[0m out \u001b[38;5;241m=\u001b[39m df\u001b[38;5;241m.\u001b[39m_constructor_from_mgr(res, axes\u001b[38;5;241m=\u001b[39mres\u001b[38;5;241m.\u001b[39maxes)\u001b[38;5;241m.\u001b[39miloc[\u001b[38;5;241m0\u001b[39m]\n\u001b[0;32m  11564\u001b[0m \u001b[38;5;28;01mif\u001b[39;00m out_dtype \u001b[38;5;129;01mis\u001b[39;00m \u001b[38;5;129;01mnot\u001b[39;00m \u001b[38;5;28;01mNone\u001b[39;00m \u001b[38;5;129;01mand\u001b[39;00m out\u001b[38;5;241m.\u001b[39mdtype \u001b[38;5;241m!=\u001b[39m \u001b[38;5;124m\"\u001b[39m\u001b[38;5;124mboolean\u001b[39m\u001b[38;5;124m\"\u001b[39m:\n",
      "File \u001b[1;32m~\\anaconda3\\Lib\\site-packages\\pandas\\core\\internals\\managers.py:1500\u001b[0m, in \u001b[0;36mBlockManager.reduce\u001b[1;34m(self, func)\u001b[0m\n\u001b[0;32m   1498\u001b[0m res_blocks: \u001b[38;5;28mlist\u001b[39m[Block] \u001b[38;5;241m=\u001b[39m []\n\u001b[0;32m   1499\u001b[0m \u001b[38;5;28;01mfor\u001b[39;00m blk \u001b[38;5;129;01min\u001b[39;00m \u001b[38;5;28mself\u001b[39m\u001b[38;5;241m.\u001b[39mblocks:\n\u001b[1;32m-> 1500\u001b[0m     nbs \u001b[38;5;241m=\u001b[39m blk\u001b[38;5;241m.\u001b[39mreduce(func)\n\u001b[0;32m   1501\u001b[0m     res_blocks\u001b[38;5;241m.\u001b[39mextend(nbs)\n\u001b[0;32m   1503\u001b[0m index \u001b[38;5;241m=\u001b[39m Index([\u001b[38;5;28;01mNone\u001b[39;00m])  \u001b[38;5;66;03m# placeholder\u001b[39;00m\n",
      "File \u001b[1;32m~\\anaconda3\\Lib\\site-packages\\pandas\\core\\internals\\blocks.py:404\u001b[0m, in \u001b[0;36mBlock.reduce\u001b[1;34m(self, func)\u001b[0m\n\u001b[0;32m    398\u001b[0m \u001b[38;5;129m@final\u001b[39m\n\u001b[0;32m    399\u001b[0m \u001b[38;5;28;01mdef\u001b[39;00m \u001b[38;5;21mreduce\u001b[39m(\u001b[38;5;28mself\u001b[39m, func) \u001b[38;5;241m-\u001b[39m\u001b[38;5;241m>\u001b[39m \u001b[38;5;28mlist\u001b[39m[Block]:\n\u001b[0;32m    400\u001b[0m     \u001b[38;5;66;03m# We will apply the function and reshape the result into a single-row\u001b[39;00m\n\u001b[0;32m    401\u001b[0m     \u001b[38;5;66;03m#  Block with the same mgr_locs; squeezing will be done at a higher level\u001b[39;00m\n\u001b[0;32m    402\u001b[0m     \u001b[38;5;28;01massert\u001b[39;00m \u001b[38;5;28mself\u001b[39m\u001b[38;5;241m.\u001b[39mndim \u001b[38;5;241m==\u001b[39m \u001b[38;5;241m2\u001b[39m\n\u001b[1;32m--> 404\u001b[0m     result \u001b[38;5;241m=\u001b[39m func(\u001b[38;5;28mself\u001b[39m\u001b[38;5;241m.\u001b[39mvalues)\n\u001b[0;32m    406\u001b[0m     \u001b[38;5;28;01mif\u001b[39;00m \u001b[38;5;28mself\u001b[39m\u001b[38;5;241m.\u001b[39mvalues\u001b[38;5;241m.\u001b[39mndim \u001b[38;5;241m==\u001b[39m \u001b[38;5;241m1\u001b[39m:\n\u001b[0;32m    407\u001b[0m         res_values \u001b[38;5;241m=\u001b[39m result\n",
      "File \u001b[1;32m~\\anaconda3\\Lib\\site-packages\\pandas\\core\\frame.py:11481\u001b[0m, in \u001b[0;36mDataFrame._reduce.<locals>.blk_func\u001b[1;34m(values, axis)\u001b[0m\n\u001b[0;32m  11479\u001b[0m         \u001b[38;5;28;01mreturn\u001b[39;00m np\u001b[38;5;241m.\u001b[39marray([result])\n\u001b[0;32m  11480\u001b[0m \u001b[38;5;28;01melse\u001b[39;00m:\n\u001b[1;32m> 11481\u001b[0m     \u001b[38;5;28;01mreturn\u001b[39;00m op(values, axis\u001b[38;5;241m=\u001b[39maxis, skipna\u001b[38;5;241m=\u001b[39mskipna, \u001b[38;5;241m*\u001b[39m\u001b[38;5;241m*\u001b[39mkwds)\n",
      "File \u001b[1;32m~\\anaconda3\\Lib\\site-packages\\pandas\\core\\nanops.py:147\u001b[0m, in \u001b[0;36mbottleneck_switch.__call__.<locals>.f\u001b[1;34m(values, axis, skipna, **kwds)\u001b[0m\n\u001b[0;32m    145\u001b[0m         result \u001b[38;5;241m=\u001b[39m alt(values, axis\u001b[38;5;241m=\u001b[39maxis, skipna\u001b[38;5;241m=\u001b[39mskipna, \u001b[38;5;241m*\u001b[39m\u001b[38;5;241m*\u001b[39mkwds)\n\u001b[0;32m    146\u001b[0m \u001b[38;5;28;01melse\u001b[39;00m:\n\u001b[1;32m--> 147\u001b[0m     result \u001b[38;5;241m=\u001b[39m alt(values, axis\u001b[38;5;241m=\u001b[39maxis, skipna\u001b[38;5;241m=\u001b[39mskipna, \u001b[38;5;241m*\u001b[39m\u001b[38;5;241m*\u001b[39mkwds)\n\u001b[0;32m    149\u001b[0m \u001b[38;5;28;01mreturn\u001b[39;00m result\n",
      "File \u001b[1;32m~\\anaconda3\\Lib\\site-packages\\pandas\\core\\nanops.py:404\u001b[0m, in \u001b[0;36m_datetimelike_compat.<locals>.new_func\u001b[1;34m(values, axis, skipna, mask, **kwargs)\u001b[0m\n\u001b[0;32m    401\u001b[0m \u001b[38;5;28;01mif\u001b[39;00m datetimelike \u001b[38;5;129;01mand\u001b[39;00m mask \u001b[38;5;129;01mis\u001b[39;00m \u001b[38;5;28;01mNone\u001b[39;00m:\n\u001b[0;32m    402\u001b[0m     mask \u001b[38;5;241m=\u001b[39m isna(values)\n\u001b[1;32m--> 404\u001b[0m result \u001b[38;5;241m=\u001b[39m func(values, axis\u001b[38;5;241m=\u001b[39maxis, skipna\u001b[38;5;241m=\u001b[39mskipna, mask\u001b[38;5;241m=\u001b[39mmask, \u001b[38;5;241m*\u001b[39m\u001b[38;5;241m*\u001b[39mkwargs)\n\u001b[0;32m    406\u001b[0m \u001b[38;5;28;01mif\u001b[39;00m datetimelike:\n\u001b[0;32m    407\u001b[0m     result \u001b[38;5;241m=\u001b[39m _wrap_results(result, orig_values\u001b[38;5;241m.\u001b[39mdtype, fill_value\u001b[38;5;241m=\u001b[39miNaT)\n",
      "File \u001b[1;32m~\\anaconda3\\Lib\\site-packages\\pandas\\core\\nanops.py:719\u001b[0m, in \u001b[0;36mnanmean\u001b[1;34m(values, axis, skipna, mask)\u001b[0m\n\u001b[0;32m    716\u001b[0m     dtype_count \u001b[38;5;241m=\u001b[39m dtype\n\u001b[0;32m    718\u001b[0m count \u001b[38;5;241m=\u001b[39m _get_counts(values\u001b[38;5;241m.\u001b[39mshape, mask, axis, dtype\u001b[38;5;241m=\u001b[39mdtype_count)\n\u001b[1;32m--> 719\u001b[0m the_sum \u001b[38;5;241m=\u001b[39m values\u001b[38;5;241m.\u001b[39msum(axis, dtype\u001b[38;5;241m=\u001b[39mdtype_sum)\n\u001b[0;32m    720\u001b[0m the_sum \u001b[38;5;241m=\u001b[39m _ensure_numeric(the_sum)\n\u001b[0;32m    722\u001b[0m \u001b[38;5;28;01mif\u001b[39;00m axis \u001b[38;5;129;01mis\u001b[39;00m \u001b[38;5;129;01mnot\u001b[39;00m \u001b[38;5;28;01mNone\u001b[39;00m \u001b[38;5;129;01mand\u001b[39;00m \u001b[38;5;28mgetattr\u001b[39m(the_sum, \u001b[38;5;124m\"\u001b[39m\u001b[38;5;124mndim\u001b[39m\u001b[38;5;124m\"\u001b[39m, \u001b[38;5;28;01mFalse\u001b[39;00m):\n",
      "File \u001b[1;32m~\\anaconda3\\Lib\\site-packages\\numpy\\core\\_methods.py:49\u001b[0m, in \u001b[0;36m_sum\u001b[1;34m(a, axis, dtype, out, keepdims, initial, where)\u001b[0m\n\u001b[0;32m     47\u001b[0m \u001b[38;5;28;01mdef\u001b[39;00m \u001b[38;5;21m_sum\u001b[39m(a, axis\u001b[38;5;241m=\u001b[39m\u001b[38;5;28;01mNone\u001b[39;00m, dtype\u001b[38;5;241m=\u001b[39m\u001b[38;5;28;01mNone\u001b[39;00m, out\u001b[38;5;241m=\u001b[39m\u001b[38;5;28;01mNone\u001b[39;00m, keepdims\u001b[38;5;241m=\u001b[39m\u001b[38;5;28;01mFalse\u001b[39;00m,\n\u001b[0;32m     48\u001b[0m          initial\u001b[38;5;241m=\u001b[39m_NoValue, where\u001b[38;5;241m=\u001b[39m\u001b[38;5;28;01mTrue\u001b[39;00m):\n\u001b[1;32m---> 49\u001b[0m     \u001b[38;5;28;01mreturn\u001b[39;00m umr_sum(a, axis, dtype, out, keepdims, initial, where)\n",
      "\u001b[1;31mTypeError\u001b[0m: can only concatenate str (not \"int\") to str"
     ]
    }
   ],
   "source": [
    "# Check for missing values\n",
    "\n",
    "missing_values = data.isnull().sum()\n",
    "\n",
    "print(missing_values[missing_values > 0])\n",
    "\n",
    "\n",
    "# Handle missing values (example: fill with mean or drop)\n",
    "\n",
    "data.fillna(data.mean(), inplace=True)  # or data.dropna(inplace=True)"
   ]
  },
  {
   "cell_type": "code",
   "execution_count": 19,
   "id": "0b9687c3-f2a3-487b-9864-4386b5e3e9d6",
   "metadata": {},
   "outputs": [
    {
     "name": "stdout",
     "output_type": "stream",
     "text": [
      "ID                                                    object\n",
      "VIN (1-10)                                            object\n",
      "County                                                object\n",
      "City                                                  object\n",
      "State                                                 object\n",
      "ZIP Code                                             float64\n",
      "Model Year                                           float64\n",
      "Make                                                  object\n",
      "Model                                                 object\n",
      "Electric Vehicle Type                                 object\n",
      "Clean Alternative Fuel Vehicle (CAFV) Eligibility     object\n",
      "Electric Range                                         int64\n",
      "Base MSRP                                              int64\n",
      "Legislative District                                 float64\n",
      "DOL Vehicle ID                                         int64\n",
      "Vehicle Location                                      object\n",
      "Electric Utility                                      object\n",
      "Expected Price ($1k)                                  object\n",
      "dtype: object\n"
     ]
    }
   ],
   "source": [
    "print(data.dtypes)"
   ]
  },
  {
   "cell_type": "code",
   "execution_count": 21,
   "id": "c2ee1b94-deff-4294-88c0-11b5a61399a3",
   "metadata": {},
   "outputs": [],
   "source": [
    "numeric_data = data.select_dtypes(include=['number'])"
   ]
  },
  {
   "cell_type": "code",
   "execution_count": 23,
   "id": "8978e95e-84bd-4dd2-9278-9b7d50b942ec",
   "metadata": {},
   "outputs": [],
   "source": [
    "data[numeric_data.columns] = numeric_data.fillna(numeric_data.mean())"
   ]
  },
  {
   "cell_type": "code",
   "execution_count": 26,
   "id": "aa6ac976-ebaa-469d-9210-7c435ab58ce7",
   "metadata": {},
   "outputs": [
    {
     "name": "stdout",
     "output_type": "stream",
     "text": [
      "ID                                                    object\n",
      "VIN (1-10)                                            object\n",
      "County                                                object\n",
      "City                                                  object\n",
      "State                                                 object\n",
      "ZIP Code                                             float64\n",
      "Model Year                                           float64\n",
      "Make                                                  object\n",
      "Model                                                 object\n",
      "Electric Vehicle Type                                 object\n",
      "Clean Alternative Fuel Vehicle (CAFV) Eligibility     object\n",
      "Electric Range                                         int64\n",
      "Base MSRP                                              int64\n",
      "Legislative District                                 float64\n",
      "DOL Vehicle ID                                         int64\n",
      "Vehicle Location                                      object\n",
      "Electric Utility                                      object\n",
      "Expected Price ($1k)                                  object\n",
      "dtype: object\n",
      "            ID  VIN (1-10)     County        City State  ZIP Code  Model Year  \\\n",
      "0      EV33174  5YJ3E1EC6L  Snohomish    LYNNWOOD    WA   98037.0      2020.0   \n",
      "1      EV40247  JN1AZ0CP8B     Skagit  BELLINGHAM    WA   98229.0      2011.0   \n",
      "2      EV12248  WBY1Z2C56F     Pierce      TACOMA    WA   98422.0      2015.0   \n",
      "3      EV55713  1G1RD6E44D       King     REDMOND    WA   98053.0      2013.0   \n",
      "4      EV28799  1G1FY6S05K     Pierce    PUYALLUP    WA   98375.0      2019.0   \n",
      "...        ...         ...        ...         ...   ...       ...         ...   \n",
      "64348   EV6357  KNDCE3LG7L       King     SEATTLE    WA   98144.0      2020.0   \n",
      "64349    EV423  JTDKN3DP2D     Pierce      TACOMA    WA   98402.0      2013.0   \n",
      "64350  EV27852  1G1FX6S05J       King     SEATTLE    WA   98119.0      2018.0   \n",
      "64351    EV830  WP1AE2A24H       King     SEATTLE    WA   98115.0      2017.0   \n",
      "64352  EV11120  1N4BZ1CP8K      Lewis      TOLEDO    WA   98591.0      2019.0   \n",
      "\n",
      "            Make          Model                   Electric Vehicle Type  \\\n",
      "0          TESLA        MODEL 3          Battery Electric Vehicle (BEV)   \n",
      "1         NISSAN           LEAF          Battery Electric Vehicle (BEV)   \n",
      "2            BMW             I3          Battery Electric Vehicle (BEV)   \n",
      "3      CHEVROLET           VOLT  Plug-in Hybrid Electric Vehicle (PHEV)   \n",
      "4      CHEVROLET        BOLT EV          Battery Electric Vehicle (BEV)   \n",
      "...          ...            ...                                     ...   \n",
      "64348        KIA           NIRO          Battery Electric Vehicle (BEV)   \n",
      "64349     TOYOTA  PRIUS PLUG-IN  Plug-in Hybrid Electric Vehicle (PHEV)   \n",
      "64350  CHEVROLET        BOLT EV          Battery Electric Vehicle (BEV)   \n",
      "64351    PORSCHE        CAYENNE  Plug-in Hybrid Electric Vehicle (PHEV)   \n",
      "64352     NISSAN           LEAF          Battery Electric Vehicle (BEV)   \n",
      "\n",
      "      Clean Alternative Fuel Vehicle (CAFV) Eligibility  Electric Range  \\\n",
      "0               Clean Alternative Fuel Vehicle Eligible             308   \n",
      "1               Clean Alternative Fuel Vehicle Eligible              73   \n",
      "2               Clean Alternative Fuel Vehicle Eligible              81   \n",
      "3               Clean Alternative Fuel Vehicle Eligible              38   \n",
      "4               Clean Alternative Fuel Vehicle Eligible             238   \n",
      "...                                                 ...             ...   \n",
      "64348           Clean Alternative Fuel Vehicle Eligible             239   \n",
      "64349             Not eligible due to low battery range               6   \n",
      "64350           Clean Alternative Fuel Vehicle Eligible             238   \n",
      "64351             Not eligible due to low battery range              14   \n",
      "64352           Clean Alternative Fuel Vehicle Eligible             150   \n",
      "\n",
      "       Base MSRP  Legislative District  DOL Vehicle ID  \\\n",
      "0              0                  32.0       109821694   \n",
      "1              0                  40.0       137375528   \n",
      "2              0                  27.0       150627382   \n",
      "3              0                  45.0       258766301   \n",
      "4              0                  25.0       296998138   \n",
      "...          ...                   ...             ...   \n",
      "64348          0                  37.0       156575107   \n",
      "64349          0                  27.0       211048701   \n",
      "64350          0                  36.0       135543411   \n",
      "64351          0                  46.0       192459907   \n",
      "64352          0                  20.0       477551595   \n",
      "\n",
      "                    Vehicle Location  \\\n",
      "0       POINT (-122.287614 47.83874)   \n",
      "1      POINT (-122.414936 48.709388)   \n",
      "2      POINT (-122.396286 47.293138)   \n",
      "3      POINT (-122.024951 47.670286)   \n",
      "4      POINT (-122.321062 47.103797)   \n",
      "...                              ...   \n",
      "64348   POINT (-122.30033 47.585339)   \n",
      "64349  POINT (-122.443211 47.252172)   \n",
      "64350  POINT (-122.367721 47.639264)   \n",
      "64351  POINT (-122.297534 47.685291)   \n",
      "64352  POINT (-122.800917 46.444012)   \n",
      "\n",
      "                                        Electric Utility Expected Price ($1k)  \n",
      "0                                 PUGET SOUND ENERGY INC                   50  \n",
      "1                                 PUGET SOUND ENERGY INC                   15  \n",
      "2      BONNEVILLE POWER ADMINISTRATION||CITY OF TACOM...                   18  \n",
      "3          PUGET SOUND ENERGY INC||CITY OF TACOMA - (WA)                 33.9  \n",
      "4      BONNEVILLE POWER ADMINISTRATION||CITY OF TACOM...                41.78  \n",
      "...                                                  ...                  ...  \n",
      "64348       CITY OF SEATTLE - (WA)|CITY OF TACOMA - (WA)                   33  \n",
      "64349  BONNEVILLE POWER ADMINISTRATION||CITY OF TACOM...                 13.3  \n",
      "64350       CITY OF SEATTLE - (WA)|CITY OF TACOMA - (WA)               22.857  \n",
      "64351       CITY OF SEATTLE - (WA)|CITY OF TACOMA - (WA)                 45.7  \n",
      "64352  BONNEVILLE POWER ADMINISTRATION||CITY OF TACOM...                   35  \n",
      "\n",
      "[64353 rows x 18 columns]\n"
     ]
    }
   ],
   "source": [
    "import pandas as pd\n",
    "\n",
    "\n",
    "# Assuming 'data' is your DataFrame\n",
    "\n",
    "print(data.dtypes)  # Check the data types of each column\n",
    "\n",
    "\n",
    "# Select only numeric columns\n",
    "\n",
    "numeric_data = data.select_dtypes(include=['number'])\n",
    "\n",
    "\n",
    "# Fill missing values with the mean of numeric columns\n",
    "\n",
    "data[numeric_data.columns] = numeric_data.fillna(numeric_data.mean())\n",
    "\n",
    "\n",
    "# Optionally, print the DataFrame to verify changes\n",
    "\n",
    "print(data)"
   ]
  },
  {
   "cell_type": "code",
   "execution_count": 66,
   "id": "f3dc1e67-9e2c-4310-8ed6-379e6bfa6e7c",
   "metadata": {},
   "outputs": [],
   "source": [
    "data['Index'] = pd.to_numeric(data['Index'], errors='coerce')"
   ]
  },
  {
   "cell_type": "code",
   "execution_count": 32,
   "id": "18cd6d0c-092b-4470-aa49-cf7888012358",
   "metadata": {},
   "outputs": [
    {
     "name": "stdout",
     "output_type": "stream",
     "text": [
      "Index(['ID', 'VIN (1-10)', 'County', 'City', 'State', 'ZIP Code', 'Model Year',\n",
      "       'Make', 'Model', 'Electric Vehicle Type',\n",
      "       'Clean Alternative Fuel Vehicle (CAFV) Eligibility', 'Electric Range',\n",
      "       'Base MSRP', 'Legislative District', 'DOL Vehicle ID',\n",
      "       'Vehicle Location', 'Electric Utility', 'Expected Price ($1k)'],\n",
      "      dtype='object')\n"
     ]
    }
   ],
   "source": [
    "print(data.columns)"
   ]
  },
  {
   "cell_type": "code",
   "execution_count": 56,
   "id": "67f01610-a77b-4d93-8c93-bf4a22ca27a2",
   "metadata": {},
   "outputs": [
    {
     "name": "stdout",
     "output_type": "stream",
     "text": [
      "        ID  VIN (1-10)     County        City State  ZIP Code  Model Year  \\\n",
      "0  EV33174  5YJ3E1EC6L  Snohomish    LYNNWOOD    WA   98037.0      2020.0   \n",
      "1  EV40247  JN1AZ0CP8B     Skagit  BELLINGHAM    WA   98229.0      2011.0   \n",
      "2  EV12248  WBY1Z2C56F     Pierce      TACOMA    WA   98422.0      2015.0   \n",
      "3  EV55713  1G1RD6E44D       King     REDMOND    WA   98053.0      2013.0   \n",
      "4  EV28799  1G1FY6S05K     Pierce    PUYALLUP    WA   98375.0      2019.0   \n",
      "\n",
      "        Make    Model                   Electric Vehicle Type  \\\n",
      "0      TESLA  MODEL 3          Battery Electric Vehicle (BEV)   \n",
      "1     NISSAN     LEAF          Battery Electric Vehicle (BEV)   \n",
      "2        BMW       I3          Battery Electric Vehicle (BEV)   \n",
      "3  CHEVROLET     VOLT  Plug-in Hybrid Electric Vehicle (PHEV)   \n",
      "4  CHEVROLET  BOLT EV          Battery Electric Vehicle (BEV)   \n",
      "\n",
      "  Clean Alternative Fuel Vehicle (CAFV) Eligibility  Electric Range  \\\n",
      "0           Clean Alternative Fuel Vehicle Eligible             308   \n",
      "1           Clean Alternative Fuel Vehicle Eligible              73   \n",
      "2           Clean Alternative Fuel Vehicle Eligible              81   \n",
      "3           Clean Alternative Fuel Vehicle Eligible              38   \n",
      "4           Clean Alternative Fuel Vehicle Eligible             238   \n",
      "\n",
      "   Base MSRP  Legislative District  DOL Vehicle ID  \\\n",
      "0          0                  32.0       109821694   \n",
      "1          0                  40.0       137375528   \n",
      "2          0                  27.0       150627382   \n",
      "3          0                  45.0       258766301   \n",
      "4          0                  25.0       296998138   \n",
      "\n",
      "                Vehicle Location  \\\n",
      "0   POINT (-122.287614 47.83874)   \n",
      "1  POINT (-122.414936 48.709388)   \n",
      "2  POINT (-122.396286 47.293138)   \n",
      "3  POINT (-122.024951 47.670286)   \n",
      "4  POINT (-122.321062 47.103797)   \n",
      "\n",
      "                                    Electric Utility Expected Price ($1k)  \n",
      "0                             PUGET SOUND ENERGY INC                   50  \n",
      "1                             PUGET SOUND ENERGY INC                   15  \n",
      "2  BONNEVILLE POWER ADMINISTRATION||CITY OF TACOM...                   18  \n",
      "3      PUGET SOUND ENERGY INC||CITY OF TACOMA - (WA)                 33.9  \n",
      "4  BONNEVILLE POWER ADMINISTRATION||CITY OF TACOM...                41.78  \n"
     ]
    }
   ],
   "source": [
    "print(data.head())"
   ]
  },
  {
   "cell_type": "code",
   "execution_count": 58,
   "id": "e901c676-2a5c-4954-a404-437259218244",
   "metadata": {},
   "outputs": [],
   "source": [
    "# Strip whitespace from column names\n",
    "data.columns = data.columns.str.strip()"
   ]
  },
  {
   "cell_type": "code",
   "execution_count": 60,
   "id": "f06bd31e-0c80-4150-be86-91468c552336",
   "metadata": {},
   "outputs": [],
   "source": [
    "data['Index'] = range(len(data))  # Example: create an index column"
   ]
  },
  {
   "cell_type": "code",
   "execution_count": 64,
   "id": "0be8ffb1-2385-41a4-8ffd-ae96d1c0042b",
   "metadata": {},
   "outputs": [],
   "source": [
    "# Assuming you have a column named 'Index' that you want to convert\n",
    "data['Index'] = pd.to_numeric(data['Index'], errors='coerce')"
   ]
  },
  {
   "cell_type": "code",
   "execution_count": 68,
   "id": "ca144c79-d1ed-4239-befb-399a6849389c",
   "metadata": {},
   "outputs": [
    {
     "name": "stdout",
     "output_type": "stream",
     "text": [
      "            ID  VIN (1-10)     County        City State  ZIP Code  Model Year  \\\n",
      "0      EV33174  5YJ3E1EC6L  Snohomish    LYNNWOOD    WA   98037.0      2020.0   \n",
      "1      EV40247  JN1AZ0CP8B     Skagit  BELLINGHAM    WA   98229.0      2011.0   \n",
      "2      EV12248  WBY1Z2C56F     Pierce      TACOMA    WA   98422.0      2015.0   \n",
      "3      EV55713  1G1RD6E44D       King     REDMOND    WA   98053.0      2013.0   \n",
      "4      EV28799  1G1FY6S05K     Pierce    PUYALLUP    WA   98375.0      2019.0   \n",
      "...        ...         ...        ...         ...   ...       ...         ...   \n",
      "64348   EV6357  KNDCE3LG7L       King     SEATTLE    WA   98144.0      2020.0   \n",
      "64349    EV423  JTDKN3DP2D     Pierce      TACOMA    WA   98402.0      2013.0   \n",
      "64350  EV27852  1G1FX6S05J       King     SEATTLE    WA   98119.0      2018.0   \n",
      "64351    EV830  WP1AE2A24H       King     SEATTLE    WA   98115.0      2017.0   \n",
      "64352  EV11120  1N4BZ1CP8K      Lewis      TOLEDO    WA   98591.0      2019.0   \n",
      "\n",
      "            Make          Model                   Electric Vehicle Type  \\\n",
      "0          TESLA        MODEL 3          Battery Electric Vehicle (BEV)   \n",
      "1         NISSAN           LEAF          Battery Electric Vehicle (BEV)   \n",
      "2            BMW             I3          Battery Electric Vehicle (BEV)   \n",
      "3      CHEVROLET           VOLT  Plug-in Hybrid Electric Vehicle (PHEV)   \n",
      "4      CHEVROLET        BOLT EV          Battery Electric Vehicle (BEV)   \n",
      "...          ...            ...                                     ...   \n",
      "64348        KIA           NIRO          Battery Electric Vehicle (BEV)   \n",
      "64349     TOYOTA  PRIUS PLUG-IN  Plug-in Hybrid Electric Vehicle (PHEV)   \n",
      "64350  CHEVROLET        BOLT EV          Battery Electric Vehicle (BEV)   \n",
      "64351    PORSCHE        CAYENNE  Plug-in Hybrid Electric Vehicle (PHEV)   \n",
      "64352     NISSAN           LEAF          Battery Electric Vehicle (BEV)   \n",
      "\n",
      "      Clean Alternative Fuel Vehicle (CAFV) Eligibility  Electric Range  \\\n",
      "0               Clean Alternative Fuel Vehicle Eligible             308   \n",
      "1               Clean Alternative Fuel Vehicle Eligible              73   \n",
      "2               Clean Alternative Fuel Vehicle Eligible              81   \n",
      "3               Clean Alternative Fuel Vehicle Eligible              38   \n",
      "4               Clean Alternative Fuel Vehicle Eligible             238   \n",
      "...                                                 ...             ...   \n",
      "64348           Clean Alternative Fuel Vehicle Eligible             239   \n",
      "64349             Not eligible due to low battery range               6   \n",
      "64350           Clean Alternative Fuel Vehicle Eligible             238   \n",
      "64351             Not eligible due to low battery range              14   \n",
      "64352           Clean Alternative Fuel Vehicle Eligible             150   \n",
      "\n",
      "       Base MSRP  Legislative District  DOL Vehicle ID  \\\n",
      "0              0                  32.0       109821694   \n",
      "1              0                  40.0       137375528   \n",
      "2              0                  27.0       150627382   \n",
      "3              0                  45.0       258766301   \n",
      "4              0                  25.0       296998138   \n",
      "...          ...                   ...             ...   \n",
      "64348          0                  37.0       156575107   \n",
      "64349          0                  27.0       211048701   \n",
      "64350          0                  36.0       135543411   \n",
      "64351          0                  46.0       192459907   \n",
      "64352          0                  20.0       477551595   \n",
      "\n",
      "                    Vehicle Location  \\\n",
      "0       POINT (-122.287614 47.83874)   \n",
      "1      POINT (-122.414936 48.709388)   \n",
      "2      POINT (-122.396286 47.293138)   \n",
      "3      POINT (-122.024951 47.670286)   \n",
      "4      POINT (-122.321062 47.103797)   \n",
      "...                              ...   \n",
      "64348   POINT (-122.30033 47.585339)   \n",
      "64349  POINT (-122.443211 47.252172)   \n",
      "64350  POINT (-122.367721 47.639264)   \n",
      "64351  POINT (-122.297534 47.685291)   \n",
      "64352  POINT (-122.800917 46.444012)   \n",
      "\n",
      "                                        Electric Utility Expected Price ($1k)  \\\n",
      "0                                 PUGET SOUND ENERGY INC                   50   \n",
      "1                                 PUGET SOUND ENERGY INC                   15   \n",
      "2      BONNEVILLE POWER ADMINISTRATION||CITY OF TACOM...                   18   \n",
      "3          PUGET SOUND ENERGY INC||CITY OF TACOMA - (WA)                 33.9   \n",
      "4      BONNEVILLE POWER ADMINISTRATION||CITY OF TACOM...                41.78   \n",
      "...                                                  ...                  ...   \n",
      "64348       CITY OF SEATTLE - (WA)|CITY OF TACOMA - (WA)                   33   \n",
      "64349  BONNEVILLE POWER ADMINISTRATION||CITY OF TACOM...                 13.3   \n",
      "64350       CITY OF SEATTLE - (WA)|CITY OF TACOMA - (WA)               22.857   \n",
      "64351       CITY OF SEATTLE - (WA)|CITY OF TACOMA - (WA)                 45.7   \n",
      "64352  BONNEVILLE POWER ADMINISTRATION||CITY OF TACOM...                   35   \n",
      "\n",
      "       Index  \n",
      "0          0  \n",
      "1          1  \n",
      "2          2  \n",
      "3          3  \n",
      "4          4  \n",
      "...      ...  \n",
      "64348  64348  \n",
      "64349  64349  \n",
      "64350  64350  \n",
      "64351  64351  \n",
      "64352  64352  \n",
      "\n",
      "[64353 rows x 19 columns]\n"
     ]
    }
   ],
   "source": [
    "# Check the DataFrame after modifications\n",
    "\n",
    "print(data)"
   ]
  },
  {
   "cell_type": "code",
   "execution_count": 54,
   "id": "ba50d1d9-bdfd-47dc-b349-7e7d41f92777",
   "metadata": {},
   "outputs": [
    {
     "name": "stdout",
     "output_type": "stream",
     "text": [
      "ID                                                    object\n",
      "VIN (1-10)                                            object\n",
      "County                                                object\n",
      "City                                                  object\n",
      "State                                                 object\n",
      "ZIP Code                                             float64\n",
      "Model Year                                           float64\n",
      "Make                                                  object\n",
      "Model                                                 object\n",
      "Electric Vehicle Type                                 object\n",
      "Clean Alternative Fuel Vehicle (CAFV) Eligibility     object\n",
      "Electric Range                                         int64\n",
      "Base MSRP                                              int64\n",
      "Legislative District                                 float64\n",
      "DOL Vehicle ID                                         int64\n",
      "Vehicle Location                                      object\n",
      "Electric Utility                                      object\n",
      "Expected Price ($1k)                                  object\n",
      "dtype: object\n"
     ]
    }
   ],
   "source": [
    "print(data.dtypes)"
   ]
  },
  {
   "cell_type": "code",
   "execution_count": null,
   "id": "8e6b05a5-2677-4091-82fb-4ee513045759",
   "metadata": {},
   "outputs": [],
   "source": [
    "data.fillna(data.select_dtypes(include=['number']).mean(), inplace=True)"
   ]
  },
  {
   "cell_type": "code",
   "execution_count": null,
   "id": "3e66915c-94e9-4f48-9759-7ff5f06138ad",
   "metadata": {},
   "outputs": [],
   "source": [
    "data = data.apply(pd.to_numeric, errors='coerce')"
   ]
  },
  {
   "cell_type": "markdown",
   "id": "d887f98f-dead-466a-a525-2f12bc03c13b",
   "metadata": {},
   "source": [
    "### Step 4: Remove Duplicates"
   ]
  },
  {
   "cell_type": "code",
   "execution_count": null,
   "id": "b9c968ca-16ee-46d9-93ee-9086fbc11b34",
   "metadata": {},
   "outputs": [],
   "source": [
    "# Remove duplicates if they exist\n",
    "\n",
    "data.drop_duplicates(inplace=True)"
   ]
  },
  {
   "cell_type": "markdown",
   "id": "9ac3c06c-afaa-4a28-a106-0900e0eb1115",
   "metadata": {},
   "source": [
    "### Step 5: Handle Outliers"
   ]
  },
  {
   "cell_type": "code",
   "execution_count": null,
   "id": "1910a1b0-b05b-4975-b31e-a60aa61b80e5",
   "metadata": {},
   "outputs": [],
   "source": [
    "# Visualize outliers using boxplots\n",
    "\n",
    "plt.figure(figsize=(10, 6))\n",
    "\n",
    "sns.boxplot(data=data)\n",
    "\n",
    "plt.show()\n"
   ]
  },
  {
   "cell_type": "code",
   "execution_count": 70,
   "id": "b61a2cdf-c7ab-4405-826f-fdd732cb9277",
   "metadata": {},
   "outputs": [],
   "source": [
    "Q1 = data['Index'].quantile(0.25)\n",
    "\n",
    "Q3 = data['Index'].quantile(0.75)\n",
    "\n",
    "IQR = Q3 - Q1\n",
    "\n",
    "data = data[(data['Index'] >= (Q1 - 1.5 * IQR)) & (data['Index'] <= (Q3 + 1.5 * IQR))]"
   ]
  },
  {
   "cell_type": "code",
   "execution_count": 72,
   "id": "72b17262-3780-4e70-93e8-d43ad1f46225",
   "metadata": {},
   "outputs": [
    {
     "name": "stdout",
     "output_type": "stream",
     "text": [
      "Index(['ID', 'VIN (1-10)', 'County', 'City', 'State', 'ZIP Code', 'Model Year',\n",
      "       'Make', 'Model', 'Electric Vehicle Type',\n",
      "       'Clean Alternative Fuel Vehicle (CAFV) Eligibility', 'Electric Range',\n",
      "       'Base MSRP', 'Legislative District', 'DOL Vehicle ID',\n",
      "       'Vehicle Location', 'Electric Utility', 'Expected Price ($1k)',\n",
      "       'Index'],\n",
      "      dtype='object')\n"
     ]
    }
   ],
   "source": [
    "print(data.columns) "
   ]
  },
  {
   "cell_type": "markdown",
   "id": "0249854d-b196-45a5-aec2-5cc788b9e740",
   "metadata": {},
   "source": [
    "### Step 6: Encode Categorical Features"
   ]
  },
  {
   "cell_type": "code",
   "execution_count": null,
   "id": "4bb50c66-ba10-403f-9219-ad925ab387d1",
   "metadata": {},
   "outputs": [],
   "source": [
    "# Convert categorical features to numerical using one-hot encoding\n",
    "\n",
    "data = pd.get_dummies(data, drop_first=True)"
   ]
  },
  {
   "cell_type": "markdown",
   "id": "962de69e-9164-4059-8d35-b74451fc73f5",
   "metadata": {},
   "source": [
    "### Step 7: Select Target Variable and Features"
   ]
  },
  {
   "cell_type": "code",
   "execution_count": null,
   "id": "409b3b47-6f07-43c7-82e6-e338cc69ea1c",
   "metadata": {},
   "outputs": [],
   "source": [
    "# Select target variable and features\n",
    "\n",
    "X = data.drop('price', axis=1)  # Features\n",
    "\n",
    "y = data['price']  # Target variable"
   ]
  },
  {
   "cell_type": "code",
   "execution_count": null,
   "id": "7ac849ca-6e06-466d-bf39-8e5a1d0fb0e6",
   "metadata": {},
   "outputs": [],
   "source": [
    "data"
   ]
  },
  {
   "cell_type": "markdown",
   "id": "ae5ec63b-e5be-4114-81ef-9b3ec233b933",
   "metadata": {},
   "source": [
    "### Step 8: Split Dataset into Training and Test Sets"
   ]
  },
  {
   "cell_type": "code",
   "execution_count": null,
   "id": "47861848-7b4f-4158-b12a-afe6a3f5e440",
   "metadata": {},
   "outputs": [],
   "source": [
    "# Split the dataset into training and test sets\n",
    "\n",
    "X_train, X_test, y_train, y_test = train_test_split(X, y, test_size=0.2, random_state=42)"
   ]
  },
  {
   "cell_type": "markdown",
   "id": "5445dacb-84da-4e8d-a867-1a72d7449872",
   "metadata": {},
   "source": [
    "### Step 9: Build and Train an SVM Model"
   ]
  },
  {
   "cell_type": "code",
   "execution_count": null,
   "id": "8a6cb1c1-d7b7-4472-b6d2-bcd262bbfec1",
   "metadata": {},
   "outputs": [],
   "source": [
    "# Build and train the SVM model\n",
    "\n",
    "model = SVR(kernel='rbf')  # You can experiment with different kernels\n",
    "\n",
    "model.fit(X_train, y_train)"
   ]
  },
  {
   "cell_type": "markdown",
   "id": "5be802cb-9a79-4881-bf11-e414eeb8f179",
   "metadata": {},
   "source": [
    "### Step 10: Assess Model Performance"
   ]
  },
  {
   "cell_type": "code",
   "execution_count": null,
   "id": "3e2f7f06-5e48-4c7f-8f3f-09cc7e695e46",
   "metadata": {},
   "outputs": [],
   "source": [
    "# Make predictions on the test set\n",
    "\n",
    "y_pred = model.predict(X_test)\n",
    "\n",
    "\n",
    "# Evaluate the model performance\n",
    "\n",
    "mse = mean_squared_error(y_test, y_pred)\n",
    "\n",
    "r2 = r2_score(y_test, y_pred)\n",
    "\n",
    "\n",
    "print(f'Mean Squared Error: {mse}')\n",
    "\n",
    "print(f'R-squared: {r2}')"
   ]
  },
  {
   "cell_type": "markdown",
   "id": "4847618c-989e-4c6d-b4d7-43889688be48",
   "metadata": {},
   "source": [
    "### Step 11: Discuss Alternative Ways to Improve Model Performance\n",
    "\n",
    " 1.    Hyperparameter Tuning: Use techniques like GridSearchCV or RandomizedSearchCV to find the best hyperparameters for the SVM model.\n",
    " 2.    Feature Engineering: Create new features based on existing ones or transform features to improve model performance.\n",
    " 3.   Scaling Features: Standardize or normalize the features, as SVM is sensitive to the scale of the data.\n",
    " 4.  Try Different Models: Experiment with other regression models like Random Forest, Gradient Boosting, or Neural Networks.\n",
    " 5.  Cross-Validation: Use cross-validation to ensure that the model's performance is consistent across different subsets of the data.\n"
   ]
  }
 ],
 "metadata": {
  "kernelspec": {
   "display_name": "Python 3 (ipykernel)",
   "language": "python",
   "name": "python3"
  },
  "language_info": {
   "codemirror_mode": {
    "name": "ipython",
    "version": 3
   },
   "file_extension": ".py",
   "mimetype": "text/x-python",
   "name": "python",
   "nbconvert_exporter": "python",
   "pygments_lexer": "ipython3",
   "version": "3.12.7"
  }
 },
 "nbformat": 4,
 "nbformat_minor": 5
}

{
 "cells": [
  {
   "cell_type": "markdown",
   "id": "80cab383-6a89-401c-a9f7-5df0ae3d5762",
   "metadata": {},
   "source": [
    " What I'm Aiming For\n",
    "\n",
    "The objective  is to practice accessing and using NASA's public APIs to retrieve and manipulate space-related data, including obtaining an API key, making API requests, processing data into a pandas DataFrame, and exporting the results to a CSV file for sharing.\n",
    "\n",
    "Instructions\n",
    "\n",
    "In this checkpoint, we are going to practice consuming public APIs through the NASA public APIs portal.\n",
    "\n",
    "Portal description : The objective of this portal is to make NASA data, including imagery, eminently accessible to application developers and data professionals. Before starting to use its APIs endpoints, it's mandatory that you generate your API KEY and store it somewhere for later use. The API key acts as the user identifier when requesting the API. To get your KEY, fill in the provided form with your personal information, and then we shall receive an email containing your personal API KEY.\n",
    "\n",
    "➡️ NASA API PORTAL\n",
    "\n",
    "https://i.imgur.com/hisTmpk.png\n",
    "\n",
    " \n",
    "\n",
    "    Go to the NASA API portal and generate your API KEY\n",
    "    Import the reques\n",
    "    ts package and store your API KEY in variable\n",
    "    Go back to portal website and click on 'browse APIs'\n",
    "    Click on the first dropdown menu, named 'APOD' and read its documentation\n",
    "    Follow the provided documentation to ask the API endpoint for the astronomy picture of the day. Get then display the image on your notebook.\n",
    "    Go through the list of the provided API endpoints once again and select 'Asteroids - NeoWs' option. Store the results in a pandas dataframe.\n",
    "    Do the necessary data pre-processing tasks on the previous result in order to get a clean dataframe with the following columns :\n",
    "*        Asteroid ID\n",
    "*        Asteroid name\n",
    "*       The Minimal estimated diameter in Kilometre\n",
    "*        Absolute_magnitude\n",
    "*        Relative_velocity(km/s)\n",
    "    Try to export the new dataframe into a CSV file and share it with your colleagues"
   ]
  },
  {
   "cell_type": "code",
   "execution_count": 6,
   "id": "9d0785fd-0f76-4634-8e2b-ede792eaf6f6",
   "metadata": {},
   "outputs": [
    {
     "name": "stdout",
     "output_type": "stream",
     "text": [
      "Requirement already satisfied: requests in c:\\users\\user\\anaconda3\\lib\\site-packages (2.32.3)\n",
      "Requirement already satisfied: pandas in c:\\users\\user\\anaconda3\\lib\\site-packages (2.2.2)\n",
      "Requirement already satisfied: charset-normalizer<4,>=2 in c:\\users\\user\\anaconda3\\lib\\site-packages (from requests) (3.3.2)\n",
      "Requirement already satisfied: idna<4,>=2.5 in c:\\users\\user\\anaconda3\\lib\\site-packages (from requests) (3.7)\n",
      "Requirement already satisfied: urllib3<3,>=1.21.1 in c:\\users\\user\\anaconda3\\lib\\site-packages (from requests) (2.2.3)\n",
      "Requirement already satisfied: certifi>=2017.4.17 in c:\\users\\user\\anaconda3\\lib\\site-packages (from requests) (2024.8.30)\n",
      "Requirement already satisfied: numpy>=1.26.0 in c:\\users\\user\\anaconda3\\lib\\site-packages (from pandas) (1.26.4)\n",
      "Requirement already satisfied: python-dateutil>=2.8.2 in c:\\users\\user\\anaconda3\\lib\\site-packages (from pandas) (2.9.0.post0)\n",
      "Requirement already satisfied: pytz>=2020.1 in c:\\users\\user\\anaconda3\\lib\\site-packages (from pandas) (2024.1)\n",
      "Requirement already satisfied: tzdata>=2022.7 in c:\\users\\user\\anaconda3\\lib\\site-packages (from pandas) (2023.3)\n",
      "Requirement already satisfied: six>=1.5 in c:\\users\\user\\anaconda3\\lib\\site-packages (from python-dateutil>=2.8.2->pandas) (1.16.0)\n",
      "Note: you may need to restart the kernel to use updated packages.\n"
     ]
    }
   ],
   "source": [
    "pip install requests pandas"
   ]
  },
  {
   "cell_type": "code",
   "execution_count": 8,
   "id": "bb0028e8-4815-46b4-bc9d-a6542ceaedfb",
   "metadata": {},
   "outputs": [],
   "source": [
    "# import library\n",
    "\n",
    "import requests\n",
    "import pandas as pd"
   ]
  },
  {
   "cell_type": "markdown",
   "id": "f8c75271-4c86-45cd-bd4e-796c69bb513d",
   "metadata": {},
   "source": [
    "### Store Your API Key:"
   ]
  },
  {
   "cell_type": "code",
   "execution_count": 10,
   "id": "395d6d99-812c-45d3-a13e-06e019316f65",
   "metadata": {},
   "outputs": [],
   "source": [
    "PI_KEY = 'xC01F8h31O0dPpgZNEng1HoichHleLVXOuGeHAKf' "
   ]
  },
  {
   "cell_type": "markdown",
   "id": "ee4e8b4c-d010-4123-936c-ce36d2172ff9",
   "metadata": {},
   "source": [
    "### Access the Astronomy Picture of the Day (APOD):"
   ]
  },
  {
   "cell_type": "code",
   "execution_count": 14,
   "id": "233043f4-930c-4918-9ca4-98b7e6949a49",
   "metadata": {},
   "outputs": [
    {
     "name": "stdout",
     "output_type": "stream",
     "text": [
      "Athena to the Moon\n",
      "Planet Earth hangs in the background of this space age selfie. The snapshot was captured by the IM-2 Nova-C lander Athena, just after stage separation following its February 26 launch to the Moon. A tall robotic lander, Athena is scheduled to touch down on Thursday, March 6, in Mons Mouton, a plateau near the Moon’s South Pole. The intended landing site is in the central portion of one of the Artemis 3 potential landing regions. Athena carries rovers and experiments as part of NASA's Commercial Lunar Payload Services program, including a drill intended to explore beneath the lunar surface in a search for evidence of frozen water. It also carries a propulsive drone dubbed the Micro Nova Hopper. After release to the lunar surface, the autonomous drone is intended to hop into a nearby crater and send science data back to the lander.\n"
     ]
    },
    {
     "data": {
      "text/html": [
       "<img src=\"https://apod.nasa.gov/apod/image/2502/AthenaEarth1024.jpg\"/>"
      ],
      "text/plain": [
       "<IPython.core.display.Image object>"
      ]
     },
     "metadata": {},
     "output_type": "display_data"
    }
   ],
   "source": [
    "# APOD endpoint\n",
    "\n",
    "apod_url = f'https://api.nasa.gov/planetary/apod?api_key={'xC01F8h31O0dPpgZNEng1HoichHleLVXOuGeHAKf'}'\n",
    "\n",
    "\n",
    "# Make the request\n",
    "\n",
    "response = requests.get(apod_url)\n",
    "\n",
    "apod_data = response.json()\n",
    "\n",
    "\n",
    "# Display the image\n",
    "\n",
    "print(apod_data['title'])\n",
    "\n",
    "print(apod_data['explanation'])\n",
    "\n",
    "from IPython.display import Image, display\n",
    "\n",
    "display(Image(url=apod_data['url']))"
   ]
  },
  {
   "cell_type": "markdown",
   "id": "2fbd8167-d0d8-4206-a1b3-99b01c206bf8",
   "metadata": {},
   "source": [
    "### Access the Asteroids - NeoWs API:\n",
    "\n",
    "*    Use the following code to retrieve asteroid data and store it in a pandas DataFrame.\n"
   ]
  },
  {
   "cell_type": "code",
   "execution_count": 19,
   "id": "63a77533-6f93-4e3b-8c9a-74a852ec5e51",
   "metadata": {},
   "outputs": [],
   "source": [
    "# NeoWs endpoint\n",
    "\n",
    "neows_url = f'https://api.nasa.gov/neo/rest/v1/neo/browse?api_key={'xC01F8h31O0dPpgZNEng1HoichHleLVXOuGeHAKf'}'\n",
    "\n",
    "\n",
    "# Make the request\n",
    "\n",
    "response = requests.get(neows_url)\n",
    "\n",
    "neows_data = response.json()\n",
    "\n",
    "\n",
    "# Convert to DataFrame\n",
    "\n",
    "asteroids = pd.DataFrame(neows_data['near_earth_objects'])"
   ]
  },
  {
   "cell_type": "markdown",
   "id": "dd57d2b4-8140-4caf-b703-1cab50d39e7f",
   "metadata": {},
   "source": [
    "### Data Pre-processing:\n",
    "\n",
    "*    Clean the DataFrame to include only the required columns.\n"
   ]
  },
  {
   "cell_type": "code",
   "execution_count": 30,
   "id": "006a7cd8-220e-4765-b1cf-40a6ee9d321a",
   "metadata": {},
   "outputs": [],
   "source": [
    "# Extract relevant columns\n",
    "\n",
    "clean_asteroids = asteroids[['id', 'name', 'estimated_diameter', 'absolute_magnitude_h', 'close_approach_data']].copy()\n",
    "\n",
    "\n",
    "# Expand estimated_diameter and relative_velocity\n",
    "\n",
    "clean_asteroids.loc[:, 'min_diameter_km'] = clean_asteroids['estimated_diameter'].apply(lambda x: x['kilometers']['estimated_diameter_min'])\n",
    "\n",
    "\n",
    "# Safely extract relative_velocity\n",
    "\n",
    "def get_relative_velocity(close_approach_data):\n",
    "\n",
    "    if close_approach_data:  # Check if the list is not empty\n",
    "\n",
    "        return close_approach_data[0]['relative_velocity']['kilometers_per_second']\n",
    "\n",
    "    else:\n",
    "\n",
    "        return None  # Return None if there's no close approach data\n",
    "\n",
    "\n",
    "clean_asteroids.loc[:, 'relative_velocity_km_s'] = clean_asteroids['close_approach_data'].apply(get_relative_velocity)\n",
    "\n",
    "\n",
    "# Select final columns\n",
    "\n",
    "final_df = clean_asteroids[['id', 'name', 'min_diameter_km', 'absolute_magnitude_h', 'relative_velocity_km_s']]\n",
    "\n",
    "\n",
    "# Rename columns\n",
    "\n",
    "final_df.columns = ['Asteroid ID', 'Asteroid Name', 'Minimal Estimated Diameter (km)', 'Absolute Magnitude', 'Relative Velocity (km/s)']"
   ]
  },
  {
   "cell_type": "markdown",
   "id": "2b6707bf-fe39-418b-8291-e3cc37445a9c",
   "metadata": {},
   "source": [
    "### Export the DataFrame to a CSV File:"
   ]
  },
  {
   "cell_type": "code",
   "execution_count": 33,
   "id": "f79a1105-a656-4ce4-bb93-e111bb82dd18",
   "metadata": {},
   "outputs": [
    {
     "name": "stdout",
     "output_type": "stream",
     "text": [
      "Data exported to asteroids_data.csv\n"
     ]
    }
   ],
   "source": [
    "final_df.to_csv('asteroids_data.csv', index=False)\n",
    "\n",
    "print(\"Data exported to asteroids_data.csv\")"
   ]
  },
  {
   "cell_type": "markdown",
   "id": "397e8e7e-e345-47dc-84b2-7f4ebe0377ef",
   "metadata": {},
   "source": [
    "## Summary\n",
    "\n",
    "I have successfully accessed NASA's APIs to retrieve the Astronomy Picture of the Day and asteroid data.\n",
    "\n",
    "I processed the asteroid data into a clean DataFrame and exported it to a CSV file."
   ]
  },
  {
   "cell_type": "code",
   "execution_count": null,
   "id": "a2952b2d-f6f5-47b0-8529-3806999fe7c4",
   "metadata": {},
   "outputs": [],
   "source": []
  }
 ],
 "metadata": {
  "kernelspec": {
   "display_name": "Python 3 (ipykernel)",
   "language": "python",
   "name": "python3"
  },
  "language_info": {
   "codemirror_mode": {
    "name": "ipython",
    "version": 3
   },
   "file_extension": ".py",
   "mimetype": "text/x-python",
   "name": "python",
   "nbconvert_exporter": "python",
   "pygments_lexer": "ipython3",
   "version": "3.12.7"
  }
 },
 "nbformat": 4,
 "nbformat_minor": 5
}

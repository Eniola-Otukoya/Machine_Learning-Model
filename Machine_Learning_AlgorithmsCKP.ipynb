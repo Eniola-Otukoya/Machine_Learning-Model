{
 "cells": [
  {
   "cell_type": "markdown",
   "id": "517a9dd8-3e0e-4d2d-85c5-9ffa663962c4",
   "metadata": {},
   "source": [
    "# Machine Learning Algorithms"
   ]
  },
  {
   "cell_type": "markdown",
   "id": "cd687f06-a4d4-427f-adea-b7ed359396da",
   "metadata": {},
   "source": [
    "#### Part1: supervised learning\n",
    "\n",
    "Import you data and perform basic data exploration phase\n",
    "\n",
    "    Display general information about the dataset\n",
    "\n",
    "    Create a pandas profiling reports to gain insights into the dataset\n",
    "\n",
    "    Handle Missing and corrupted values\n",
    "\n",
    "    Remove duplicates, if they exist\n",
    "\n",
    "    Handle outliers, if they exist\n",
    "\n",
    "    Encode categorical features\n",
    "\n",
    "Prepare your dataset for the modelling phase\n",
    "\n",
    "Apply Decision tree, and plot its ROC curve\n",
    "\n",
    "Try to improve your model performance by changing the model hyperparameters"
   ]
  },
  {
   "cell_type": "markdown",
   "id": "5974504d-1729-46e4-8cbb-82b5a48d4a7e",
   "metadata": {},
   "source": [
    "### Part 1: unsupervised learning\n",
    "\n",
    "Drop out the target variable\n",
    "\n",
    "Apply K means clustering and plot the clusters\n",
    "\n",
    "Find the optimal K parameter\n",
    "\n",
    "Interpret the results"
   ]
  },
  {
   "cell_type": "code",
   "execution_count": 1,
   "id": "dd29e945-cbfa-44b8-8a53-e02cccf3e7fb",
   "metadata": {},
   "outputs": [
    {
     "name": "stderr",
     "output_type": "stream",
     "text": [
      "C:\\Users\\User\\AppData\\Local\\Temp\\ipykernel_2064\\786813915.py:19: DeprecationWarning: `import pandas_profiling` is going to be deprecated by April 1st. Please use `import ydata_profiling` instead.\n",
      "  from pandas_profiling import ProfileReport\n"
     ]
    }
   ],
   "source": [
    "# Import Libraries and Load Data\n",
    "\n",
    "import pandas as pd\n",
    "\n",
    "import numpy as np\n",
    "\n",
    "import matplotlib.pyplot as plt\n",
    "\n",
    "import seaborn as sns\n",
    "\n",
    "from sklearn.model_selection import train_test_split\n",
    "\n",
    "from sklearn.tree import DecisionTreeClassifier\n",
    "\n",
    "from sklearn.metrics import roc_curve, auc, classification_report\n",
    "\n",
    "from sklearn.preprocessing import LabelEncoder\n",
    "\n",
    "from pandas_profiling import ProfileReport\n",
    "\n",
    "\n",
    "# Load the dataset\n",
    "\n",
    "url = (r\"C:\\Users\\User\\Desktop\\gomycode\\Machine Learning\\Microsoft_malware_dataset_min.csv\")\n",
    "\n",
    "data = pd.read_csv(url)"
   ]
  },
  {
   "cell_type": "code",
   "execution_count": 2,
   "id": "67cb6eb7-d1c3-420f-a6d8-a7a8f4e90725",
   "metadata": {},
   "outputs": [
    {
     "data": {
      "text/plain": [
       "array([ 0., nan,  1.])"
      ]
     },
     "execution_count": 2,
     "metadata": {},
     "output_type": "execute_result"
    }
   ],
   "source": [
    "data.Census_IsVirtualDevice.unique()"
   ]
  },
  {
   "cell_type": "code",
   "execution_count": 3,
   "id": "60f19862-2697-467b-bbaf-3d5c02225dfb",
   "metadata": {},
   "outputs": [
    {
     "name": "stdout",
     "output_type": "stream",
     "text": [
      "<class 'pandas.core.frame.DataFrame'>\n",
      "RangeIndex: 100000 entries, 0 to 99999\n",
      "Data columns (total 10 columns):\n",
      " #   Column                      Non-Null Count   Dtype  \n",
      "---  ------                      --------------   -----  \n",
      " 0   HasDetections               100000 non-null  int64  \n",
      " 1   Wdft_IsGamer                96585 non-null   float64\n",
      " 2   Census_IsVirtualDevice      99815 non-null   float64\n",
      " 3   Census_OSEdition            100000 non-null  object \n",
      " 4   Census_HasOpticalDiskDrive  100000 non-null  int64  \n",
      " 5   Firewall                    98924 non-null   float64\n",
      " 6   SMode                       94068 non-null   float64\n",
      " 7   IsProtected                 99609 non-null   float64\n",
      " 8   OsPlatformSubRelease        100000 non-null  object \n",
      " 9   CountryIdentifier           100000 non-null  int64  \n",
      "dtypes: float64(5), int64(3), object(2)\n",
      "memory usage: 7.6+ MB\n",
      "None\n",
      "       HasDetections  Wdft_IsGamer  Census_IsVirtualDevice  \\\n",
      "count  100000.000000  96585.000000            99815.000000   \n",
      "mean        0.499280      0.281607                0.006642   \n",
      "std         0.500002      0.449785                0.081230   \n",
      "min         0.000000      0.000000                0.000000   \n",
      "25%         0.000000      0.000000                0.000000   \n",
      "50%         0.000000      0.000000                0.000000   \n",
      "75%         1.000000      1.000000                0.000000   \n",
      "max         1.000000      1.000000                1.000000   \n",
      "\n",
      "       Census_HasOpticalDiskDrive      Firewall         SMode   IsProtected  \\\n",
      "count               100000.000000  98924.000000  94068.000000  99609.000000   \n",
      "mean                     0.075850      0.977326      0.000351      0.944864   \n",
      "std                      0.264759      0.148863      0.018727      0.228246   \n",
      "min                      0.000000      0.000000      0.000000      0.000000   \n",
      "25%                      0.000000      1.000000      0.000000      1.000000   \n",
      "50%                      0.000000      1.000000      0.000000      1.000000   \n",
      "75%                      0.000000      1.000000      0.000000      1.000000   \n",
      "max                      1.000000      1.000000      1.000000      1.000000   \n",
      "\n",
      "       CountryIdentifier  \n",
      "count      100000.000000  \n",
      "mean          108.188050  \n",
      "std            62.989406  \n",
      "min             1.000000  \n",
      "25%            51.000000  \n",
      "50%            97.000000  \n",
      "75%           162.000000  \n",
      "max           222.000000  \n"
     ]
    },
    {
     "data": {
      "application/vnd.jupyter.widget-view+json": {
       "model_id": "5db1851bb08e434da3ed0b1174d3337d",
       "version_major": 2,
       "version_minor": 0
      },
      "text/plain": [
       "Summarize dataset:   0%|          | 0/5 [00:00<?, ?it/s]"
      ]
     },
     "metadata": {},
     "output_type": "display_data"
    },
    {
     "data": {
      "application/vnd.jupyter.widget-view+json": {
       "model_id": "3d472c5bf11742a6b6e9b40a2398c0cc",
       "version_major": 2,
       "version_minor": 0
      },
      "text/plain": [
       "Generate report structure:   0%|          | 0/1 [00:00<?, ?it/s]"
      ]
     },
     "metadata": {},
     "output_type": "display_data"
    },
    {
     "data": {
      "application/vnd.jupyter.widget-view+json": {
       "model_id": "9412eda1dcb048c7b89140e2646e8a16",
       "version_major": 2,
       "version_minor": 0
      },
      "text/plain": [
       "Render HTML:   0%|          | 0/1 [00:00<?, ?it/s]"
      ]
     },
     "metadata": {},
     "output_type": "display_data"
    },
    {
     "data": {
      "application/vnd.jupyter.widget-view+json": {
       "model_id": "c770eaf8829c4d13873e544ccb3e6828",
       "version_major": 2,
       "version_minor": 0
      },
      "text/plain": [
       "Export report to file:   0%|          | 0/1 [00:00<?, ?it/s]"
      ]
     },
     "metadata": {},
     "output_type": "display_data"
    }
   ],
   "source": [
    "# Display general information about the dataset\n",
    "\n",
    "print(data.info())\n",
    "\n",
    "print(data.describe())\n",
    "\n",
    "\n",
    "# Create a pandas profiling report\n",
    "\n",
    "profile = ProfileReport(data, title=\"Pandas Profiling Report\", explorative=True)\n",
    "\n",
    "profile.to_file(\"microsoft_malware_report.html\")  # Save the report\n",
    "\n"
   ]
  },
  {
   "cell_type": "code",
   "execution_count": 4,
   "id": "ebf5304d-8054-4272-8f19-c1fa0c111591",
   "metadata": {},
   "outputs": [],
   "source": [
    "# Remove duplicates if they exist\n",
    "\n",
    "data.drop_duplicates(inplace=True)"
   ]
  },
  {
   "cell_type": "markdown",
   "id": "70f7fedb-65a3-42e4-a7d3-e2be5ae137a3",
   "metadata": {},
   "source": [
    "### Handle Outliers"
   ]
  },
  {
   "cell_type": "code",
   "execution_count": 10,
   "id": "a0ad0dcf-71dc-470b-9267-ddb9eef0a51d",
   "metadata": {},
   "outputs": [],
   "source": [
    "plt.savefig('my_plot.png')  # Save the plot as a PNG file"
   ]
  },
  {
   "cell_type": "code",
   "execution_count": 12,
   "id": "51e28e2f-e47e-4251-a973-b519222b56fe",
   "metadata": {},
   "outputs": [],
   "source": [
    "Q1 = data['Census_IsVirtualDevice'].quantile(0.25)\n",
    "\n",
    "Q3 = data['Census_IsVirtualDevice'].quantile(0.75)"
   ]
  },
  {
   "cell_type": "code",
   "execution_count": 14,
   "id": "bd85c2ca-8eae-438b-869e-1f8d7154628d",
   "metadata": {},
   "outputs": [],
   "source": [
    "import pandas as pd\n",
    "\n",
    "import matplotlib.pyplot as plt\n",
    "\n",
    "\n",
    "# Assuming 'data' is your DataFrame and it has been defined earlier\n",
    "\n",
    "# Make sure to replace 'Census_IsVirtualDevice' with the actual column name if it's different\n",
    "\n",
    "Q1 = data['Census_IsVirtualDevice'].quantile(0.25)\n",
    "\n",
    "Q3 = data['Census_IsVirtualDevice'].quantile(0.75)\n",
    "\n",
    "\n",
    "IQR = Q3 - Q1\n",
    "\n",
    "\n",
    "# Example plot (make sure to create a plot before calling plt.show())\n",
    "\n",
    "plt.figure()\n",
    "\n",
    "plt.boxplot(data['Census_IsVirtualDevice'])\n",
    "\n",
    "plt.title('Boxplot of Census_IsVirtualDevice')\n",
    "\n",
    "plt.ylabel('Values')\n",
    "\n",
    "plt.grid()\n",
    "\n",
    "\n",
    "# If you're in a non-interactive environment, save the plot instead\n",
    "\n",
    "plt.savefig('my_plot.png')  # Save the plot as a PNG file\n",
    "\n",
    "# plt.show()  # Uncomment this if you're in an interactive environment"
   ]
  },
  {
   "cell_type": "markdown",
   "id": "b6ccc2b0-e67e-4c24-97c1-b0048528d7a3",
   "metadata": {},
   "source": [
    "### Encode Categorical Features"
   ]
  },
  {
   "cell_type": "code",
   "execution_count": null,
   "id": "c9ef0aea-ed81-436a-bbe6-e5712171c463",
   "metadata": {},
   "outputs": [],
   "source": [
    "# Convert categorical features to numerical using label encoding or one-hot encoding\n",
    "\n",
    "label_encoder = LabelEncoder()\n",
    "\n",
    "data[Census_IsVirtualDevice] = label_encoder.fit_transform(data[Census_IsVirtualDevice])\n",
    "\n",
    "# Repeat for other categorical columns as necessary"
   ]
  },
  {
   "cell_type": "markdown",
   "id": "80d1ed2e-2253-48af-98a0-d117e6d5f3d1",
   "metadata": {},
   "source": [
    "### Prepare Dataset for Modeling"
   ]
  },
  {
   "cell_type": "code",
   "execution_count": null,
   "id": "b96220d9-1a9f-4f91-aeaa-057521629568",
   "metadata": {},
   "outputs": [],
   "source": [
    "# Select features and target variable\n",
    "\n",
    "X = data.drop('Census_IsVirtualDevice', axis=1)  # Replace 'target_variable' with the actual target column name\n",
    "\n",
    "y = data['Census_IsVirtualDevice']\n",
    "\n",
    "\n",
    "# Split the dataset into training and test sets\n",
    "\n",
    "X_train, X_test, y_train, y_test = train_test_split(X, y, test_size=0.2, random_state=42)"
   ]
  },
  {
   "cell_type": "markdown",
   "id": "b4cd29cf-8708-416b-bc69-61e1c69d6e28",
   "metadata": {},
   "source": [
    "#### Apply Decision Tree and Plot ROC Curve"
   ]
  },
  {
   "cell_type": "code",
   "execution_count": null,
   "id": "17b57cbf-fe0f-459f-9553-8d6fe1ffe08c",
   "metadata": {},
   "outputs": [],
   "source": [
    "# Train a Decision Tree Classifier\n",
    "\n",
    "dt_classifier = DecisionTreeClassifier(random_state=42)\n",
    "\n",
    "dt_classifier.fit(X_train, y_train)\n",
    "\n",
    "\n",
    "# Make predictions\n",
    "\n",
    "y_pred = dt_classifier.predict(X_test)\n",
    "\n",
    "\n",
    "# Calculate ROC curve\n",
    "\n",
    "fpr, tpr, thresholds = roc_curve(y_test, dt_classifier.predict_proba(X_test)[:, 1])\n",
    "\n",
    "roc_auc = auc(fpr, tpr)\n",
    "\n",
    "\n",
    "# Plot ROC curve\n",
    "\n",
    "plt.figure()\n",
    "\n",
    "plt.plot(fpr, tpr, color='blue', label='ROC curve (area = %0.2f)' % roc_auc)\n",
    "\n",
    "plt.plot([0, 1], [0, 1], color='red', linestyle='--')\n",
    "\n",
    "plt.xlim([0.0, 1.0])\n",
    "\n",
    "plt.ylim([0.0, 1.05])\n",
    "\n",
    "plt.xlabel('False Positive Rate')\n",
    "\n",
    "plt.ylabel('True Positive Rate')\n",
    "\n",
    "plt.title('Receiver Operating Characteristic')\n",
    "\n",
    "plt.legend(loc=\"lower right\")\n",
    "\n",
    "plt.show()\n",
    "\n"
   ]
  },
  {
   "cell_type": "markdown",
   "id": "fc78a9ee-f9c1-489b-981f-044e92016876",
   "metadata": {},
   "source": [
    "### Improve Model Performance by Changing Hyperparameters"
   ]
  },
  {
   "cell_type": "code",
   "execution_count": null,
   "id": "98a0a960-4a54-4551-8c25-470c9f065f7c",
   "metadata": {},
   "outputs": [],
   "source": [
    "# Example: Hyperparameter tuning using GridSearchCV\n",
    "\n",
    "from sklearn.model_selection import GridSearchCV\n",
    "\n",
    "\n",
    "param_grid = {\n",
    "\n",
    "    'criterion': ['gini', 'entropy'],\n",
    "\n",
    "    'max_depth': [None, 10, 20, 30],\n",
    "\n",
    "    'min_samples_split': [2, 5, 10]\n",
    "\n",
    "}\n",
    "\n",
    "\n",
    "grid_search = GridSearchCV(DecisionTreeClassifier(random_state=42), param_grid, cv=5)\n",
    "\n",
    "grid_search.fit(X_train, y_train)\n",
    "\n",
    "\n",
    "# Best parameters\n",
    "\n",
    "print(\"Best parameters found: \", grid_search.best_params_)"
   ]
  },
  {
   "cell_type": "markdown",
   "id": "696fa2de-5302-4d84-9293-378b1cd2a77f",
   "metadata": {},
   "source": [
    "#### Drop the Target Variable\n",
    "\n",
    "* undefined"
   ]
  },
  {
   "cell_type": "code",
   "execution_count": null,
   "id": "ac1519e1-7eb9-430e-bbb9-4bb8281cbea3",
   "metadata": {},
   "outputs": [],
   "source": []
  }
 ],
 "metadata": {
  "kernelspec": {
   "display_name": "Python 3 (ipykernel)",
   "language": "python",
   "name": "python3"
  },
  "language_info": {
   "codemirror_mode": {
    "name": "ipython",
    "version": 3
   },
   "file_extension": ".py",
   "mimetype": "text/x-python",
   "name": "python",
   "nbconvert_exporter": "python",
   "pygments_lexer": "ipython3",
   "version": "3.12.7"
  }
 },
 "nbformat": 4,
 "nbformat_minor": 5
}

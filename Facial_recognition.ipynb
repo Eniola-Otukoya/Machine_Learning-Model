{
  "nbformat": 4,
  "nbformat_minor": 0,
  "metadata": {
    "colab": {
      "provenance": [],
      "include_colab_link": true
    },
    "kernelspec": {
      "name": "python3",
      "display_name": "Python 3"
    },
    "language_info": {
      "name": "python"
    }
  },
  "cells": [
    {
      "cell_type": "markdown",
      "metadata": {
        "id": "view-in-github",
        "colab_type": "text"
      },
      "source": [
        "<a href=\"https://colab.research.google.com/github/Eniola-Otukoya/Machine_Learning-Model/blob/main/Facial_recognition.ipynb\" target=\"_parent\"><img src=\"https://colab.research.google.com/assets/colab-badge.svg\" alt=\"Open In Colab\"/></a>"
      ]
    },
    {
      "cell_type": "markdown",
      "source": [
        "# Personalized facial recognition app :\n",
        "\n",
        "This code uses Python and the OpenCV and Streamlit libraries to create a face detection application.\n",
        "The application captures frames from the webcam and uses the Viola-Jones algorithm to detect faces in the frames. It then draws rectangles around the detected faces and displays the frames in a window.\n",
        "Here are the steps to understand and run the code:"
      ],
      "metadata": {
        "id": "HXov3yOrsqCk"
      }
    },
    {
      "cell_type": "code",
      "source": [
        "!pip install streamlit"
      ],
      "metadata": {
        "colab": {
          "base_uri": "https://localhost:8080/"
        },
        "id": "csXD0-kQtgxy",
        "outputId": "fd72ef90-2bc4-4b70-ef06-2cef39a65ef0"
      },
      "execution_count": null,
      "outputs": [
        {
          "output_type": "stream",
          "name": "stdout",
          "text": [
            "Requirement already satisfied: streamlit in /usr/local/lib/python3.10/dist-packages (1.29.0)\n",
            "Requirement already satisfied: altair<6,>=4.0 in /usr/local/lib/python3.10/dist-packages (from streamlit) (4.2.2)\n",
            "Requirement already satisfied: blinker<2,>=1.0.0 in /usr/lib/python3/dist-packages (from streamlit) (1.4)\n",
            "Requirement already satisfied: cachetools<6,>=4.0 in /usr/local/lib/python3.10/dist-packages (from streamlit) (5.3.2)\n",
            "Requirement already satisfied: click<9,>=7.0 in /usr/local/lib/python3.10/dist-packages (from streamlit) (8.1.7)\n",
            "Requirement already satisfied: importlib-metadata<7,>=1.4 in /usr/local/lib/python3.10/dist-packages (from streamlit) (6.11.0)\n",
            "Requirement already satisfied: numpy<2,>=1.19.3 in /usr/local/lib/python3.10/dist-packages (from streamlit) (1.23.5)\n",
            "Requirement already satisfied: packaging<24,>=16.8 in /usr/local/lib/python3.10/dist-packages (from streamlit) (23.2)\n",
            "Requirement already satisfied: pandas<3,>=1.3.0 in /usr/local/lib/python3.10/dist-packages (from streamlit) (1.5.3)\n",
            "Requirement already satisfied: pillow<11,>=7.1.0 in /usr/local/lib/python3.10/dist-packages (from streamlit) (9.4.0)\n",
            "Requirement already satisfied: protobuf<5,>=3.20 in /usr/local/lib/python3.10/dist-packages (from streamlit) (3.20.3)\n",
            "Requirement already satisfied: pyarrow>=6.0 in /usr/local/lib/python3.10/dist-packages (from streamlit) (10.0.1)\n",
            "Requirement already satisfied: python-dateutil<3,>=2.7.3 in /usr/local/lib/python3.10/dist-packages (from streamlit) (2.8.2)\n",
            "Requirement already satisfied: requests<3,>=2.27 in /usr/local/lib/python3.10/dist-packages (from streamlit) (2.31.0)\n",
            "Requirement already satisfied: rich<14,>=10.14.0 in /usr/local/lib/python3.10/dist-packages (from streamlit) (13.7.0)\n",
            "Requirement already satisfied: tenacity<9,>=8.1.0 in /usr/local/lib/python3.10/dist-packages (from streamlit) (8.2.3)\n",
            "Requirement already satisfied: toml<2,>=0.10.1 in /usr/local/lib/python3.10/dist-packages (from streamlit) (0.10.2)\n",
            "Requirement already satisfied: typing-extensions<5,>=4.3.0 in /usr/local/lib/python3.10/dist-packages (from streamlit) (4.5.0)\n",
            "Requirement already satisfied: tzlocal<6,>=1.1 in /usr/local/lib/python3.10/dist-packages (from streamlit) (5.2)\n",
            "Requirement already satisfied: validators<1,>=0.2 in /usr/local/lib/python3.10/dist-packages (from streamlit) (0.22.0)\n",
            "Requirement already satisfied: gitpython!=3.1.19,<4,>=3.0.7 in /usr/local/lib/python3.10/dist-packages (from streamlit) (3.1.40)\n",
            "Requirement already satisfied: pydeck<1,>=0.8.0b4 in /usr/local/lib/python3.10/dist-packages (from streamlit) (0.8.1b0)\n",
            "Requirement already satisfied: tornado<7,>=6.0.3 in /usr/local/lib/python3.10/dist-packages (from streamlit) (6.3.2)\n",
            "Requirement already satisfied: watchdog>=2.1.5 in /usr/local/lib/python3.10/dist-packages (from streamlit) (3.0.0)\n",
            "Requirement already satisfied: entrypoints in /usr/local/lib/python3.10/dist-packages (from altair<6,>=4.0->streamlit) (0.4)\n",
            "Requirement already satisfied: jinja2 in /usr/local/lib/python3.10/dist-packages (from altair<6,>=4.0->streamlit) (3.1.2)\n",
            "Requirement already satisfied: jsonschema>=3.0 in /usr/local/lib/python3.10/dist-packages (from altair<6,>=4.0->streamlit) (4.19.2)\n",
            "Requirement already satisfied: toolz in /usr/local/lib/python3.10/dist-packages (from altair<6,>=4.0->streamlit) (0.12.0)\n",
            "Requirement already satisfied: gitdb<5,>=4.0.1 in /usr/local/lib/python3.10/dist-packages (from gitpython!=3.1.19,<4,>=3.0.7->streamlit) (4.0.11)\n",
            "Requirement already satisfied: zipp>=0.5 in /usr/local/lib/python3.10/dist-packages (from importlib-metadata<7,>=1.4->streamlit) (3.17.0)\n",
            "Requirement already satisfied: pytz>=2020.1 in /usr/local/lib/python3.10/dist-packages (from pandas<3,>=1.3.0->streamlit) (2023.3.post1)\n",
            "Requirement already satisfied: six>=1.5 in /usr/local/lib/python3.10/dist-packages (from python-dateutil<3,>=2.7.3->streamlit) (1.16.0)\n",
            "Requirement already satisfied: charset-normalizer<4,>=2 in /usr/local/lib/python3.10/dist-packages (from requests<3,>=2.27->streamlit) (3.3.2)\n",
            "Requirement already satisfied: idna<4,>=2.5 in /usr/local/lib/python3.10/dist-packages (from requests<3,>=2.27->streamlit) (3.6)\n",
            "Requirement already satisfied: urllib3<3,>=1.21.1 in /usr/local/lib/python3.10/dist-packages (from requests<3,>=2.27->streamlit) (2.0.7)\n",
            "Requirement already satisfied: certifi>=2017.4.17 in /usr/local/lib/python3.10/dist-packages (from requests<3,>=2.27->streamlit) (2023.11.17)\n",
            "Requirement already satisfied: markdown-it-py>=2.2.0 in /usr/local/lib/python3.10/dist-packages (from rich<14,>=10.14.0->streamlit) (3.0.0)\n",
            "Requirement already satisfied: pygments<3.0.0,>=2.13.0 in /usr/local/lib/python3.10/dist-packages (from rich<14,>=10.14.0->streamlit) (2.16.1)\n",
            "Requirement already satisfied: smmap<6,>=3.0.1 in /usr/local/lib/python3.10/dist-packages (from gitdb<5,>=4.0.1->gitpython!=3.1.19,<4,>=3.0.7->streamlit) (5.0.1)\n",
            "Requirement already satisfied: MarkupSafe>=2.0 in /usr/local/lib/python3.10/dist-packages (from jinja2->altair<6,>=4.0->streamlit) (2.1.3)\n",
            "Requirement already satisfied: attrs>=22.2.0 in /usr/local/lib/python3.10/dist-packages (from jsonschema>=3.0->altair<6,>=4.0->streamlit) (23.1.0)\n",
            "Requirement already satisfied: jsonschema-specifications>=2023.03.6 in /usr/local/lib/python3.10/dist-packages (from jsonschema>=3.0->altair<6,>=4.0->streamlit) (2023.11.2)\n",
            "Requirement already satisfied: referencing>=0.28.4 in /usr/local/lib/python3.10/dist-packages (from jsonschema>=3.0->altair<6,>=4.0->streamlit) (0.32.0)\n",
            "Requirement already satisfied: rpds-py>=0.7.1 in /usr/local/lib/python3.10/dist-packages (from jsonschema>=3.0->altair<6,>=4.0->streamlit) (0.15.2)\n",
            "Requirement already satisfied: mdurl~=0.1 in /usr/local/lib/python3.10/dist-packages (from markdown-it-py>=2.2.0->rich<14,>=10.14.0->streamlit) (0.1.2)\n"
          ]
        }
      ]
    },
    {
      "cell_type": "code",
      "source": [
        "#Step 1: Import the required libraries\n",
        "#The code begins by importing the necessary libraries. cv2 is the OpenCV library,\n",
        "#which is used for image and video processing. streamlit is a library for building interactive web applications with Python.\n",
        "\n",
        "import cv2\n",
        "import streamlit as st"
      ],
      "metadata": {
        "id": "YtOaeOkRs6xQ"
      },
      "execution_count": null,
      "outputs": []
    },
    {
      "cell_type": "code",
      "source": [
        "#import dataset\n",
        "from google.colab import drive\n",
        "drive.mount('/content/drive')"
      ],
      "metadata": {
        "id": "LuyaTVemg6cd",
        "colab": {
          "base_uri": "https://localhost:8080/"
        },
        "outputId": "fa807efe-010a-41c8-acc8-973d96cf86c6"
      },
      "execution_count": null,
      "outputs": [
        {
          "output_type": "stream",
          "name": "stdout",
          "text": [
            "Mounted at /content/drive\n"
          ]
        }
      ]
    },
    {
      "cell_type": "code",
      "source": [],
      "metadata": {
        "id": "QDuCMmFIGslG"
      },
      "execution_count": null,
      "outputs": []
    },
    {
      "cell_type": "code",
      "source": [
        "# Step 2: Load the face cascade classifier\n",
        "#Face Cascade Classifier Download Link: https://drive.google.com/file/d/1_ND5on55ypLGe0Rbuw6vbxfoN_xVLz_3/view\n",
        "# The face cascade classifier is a pre-trained model that can be used to detect faces in images and videos. The code loads the face cascade classifier file from the specified path.\n",
        "# our personalized facial recognition :\n",
        "\n",
        "face_cascade = cv2.CascadeClassifier(\"/content/drive/MyDrive/Untitled folder/DATASETS/haarcascade_frontalface_default .xml\")"
      ],
      "metadata": {
        "id": "IgjHDbivt6G_"
      },
      "execution_count": null,
      "outputs": []
    },
    {
      "cell_type": "code",
      "source": [
        "# Step 3: Create a function to capture frames from the webcam and detect faces\n",
        "# Function to detect faces\n",
        "def detect_faces(min_neighbors, scale_factor, rect_color):\n",
        "    # Initialize the webcam\n",
        "    cap = cv2.VideoCapture(0)\n",
        "    while True:\n",
        "        # Read frames from the webcam\n",
        "        ret, frame = cap.read()\n",
        "        # Convert frames to grayscale\n",
        "        gray = cv2.cvtColor(frame, cv2.COLOR_BGR2GRAY)\n",
        "        # Detect faces using the face cascade classifier\n",
        "        faces = face_cascade.detectMultiScale(gray, scaleFactor=scale_factor, minNeighbors=min_neighbors)\n",
        "        # Draw rectangles around detected faces\n",
        "        for (x, y, w, h) in faces:\n",
        "            cv2.rectangle(frame, (x, y), (x + w, y + h), rect_color, 2)\n",
        "        # Display frames with detected faces\n",
        "        cv2.imshow('Face Detection using Viola-Jones Algorithm', frame)\n",
        "        # Save images with detected faces\n",
        "        if st.button(\"Save Images\"):\n",
        "            for i, (x, y, w, h) in enumerate(faces):\n",
        "                cv2.imwrite(f\"detected_face_{i + 1}.png\", frame[y:y+h, x:x+w])\n",
        "        # Exit loop on pressing 'q' key\n",
        "        if cv2.waitKey(1) & 0xFF == ord('q'):\n",
        "            break\n",
        "    # Release webcam and close windows\n",
        "    cap.release()\n",
        "    cv2.destroyAllWindows()"
      ],
      "metadata": {
        "id": "ROdPfp1nuykF"
      },
      "execution_count": null,
      "outputs": []
    },
    {
      "cell_type": "markdown",
      "source": [
        "•\tThe detect_faces() function captures frames from the webcam and detects faces in the frames.\n",
        "\n",
        "•\tIt first initializes the webcam using cv2.VideoCapture().\n",
        "\n",
        "•\tIt then reads frames from the webcam using cap.read(), converts them to grayscale using cv2.cvtColor(), and detects faces using the face_cascade.detectMultiScale() method.\n",
        "\n",
        "•\tThe scaleFactor and minNeighbors parameters of the detectMultiScale() method control the sensitivity and accuracy of the face detection.\n",
        "\n",
        "•\tOnce faces are detected, the function draws rectangles around them using cv2.rectangle().\n",
        "\n",
        "•\tThe function then displays the frames with the detected faces using cv2.imshow().\n",
        "\n",
        "•\tThe function exits the loop and releases the webcam and all windows when the user presses the 'q' key."
      ],
      "metadata": {
        "id": "kbWz2vYWvjBC"
      }
    },
    {
      "cell_type": "code",
      "source": [
        "# Step 4: Define the Streamlit app\n",
        "# Streamlit app interface\n",
        "def app():\n",
        "    st.title(\"Face Detection using Viola-Jones Algorithm\")\n",
        "    st.write(\"Press the button below to start detecting faces from your webcam\")\n",
        "    # Instructions for using the app\n",
        "    st.write(\"Instructions:\")\n",
        "    st.write(\"1. Press 'Detect Faces' button to start detecting faces.\")\n",
        "    st.write(\"2. Use sliders to adjust parameters for face detection.\")\n",
        "    st.write(\"3. Choose rectangle color and click 'Save Images' to save detected faces.\")\n",
        "    # Button to start detecting faces\n",
        "    if st.button(\"Detect Faces\"):\n",
        "        min_neighbors = st.slider(\"minNeighbors\", 1, 10, 5)\n",
        "        scale_factor = st.slider(\"scaleFactor\", 1.1, 2.0, 1.3)\n",
        "        rect_color = st.color_picker(\"Choose Rectangle Color\")\n",
        "        detect_faces(min_neighbors, scale_factor, rect_color)\n",
        "\n",
        "if __name__ == \"__main__\":\n",
        "    app()\n"
      ],
      "metadata": {
        "id": "SyQCwWjqvLsC",
        "colab": {
          "base_uri": "https://localhost:8080/"
        },
        "outputId": "ea43b0ad-efc7-4ccd-febd-4f739376aa3f"
      },
      "execution_count": null,
      "outputs": [
        {
          "output_type": "stream",
          "name": "stderr",
          "text": [
            "2023-12-22 20:11:13.868 \n",
            "  \u001b[33m\u001b[1mWarning:\u001b[0m to view this Streamlit app on a browser, run it with the following\n",
            "  command:\n",
            "\n",
            "    streamlit run /usr/local/lib/python3.10/dist-packages/colab_kernel_launcher.py [ARGUMENTS]\n"
          ]
        }
      ]
    },
    {
      "cell_type": "markdown",
      "source": [
        "The app() function defines the Streamlit application. It sets the title of the app and adds a message prompting the user to press a button to start detecting faces from their webcam. When the user presses the button, the detect_faces() function is called."
      ],
      "metadata": {
        "id": "xVtik7gOwTHI"
      }
    },
    {
      "cell_type": "markdown",
      "source": [
        "Conclusion :\n",
        "This program demonstrates the implementation of a facial recognition system using the Viola-Jones algorithm. The program is capable of detecting faces in real-time using the computer's webcam, and it draws a rectangle around each face detected. The use of the Haar cascade classifier makes the face detection process more efficient and accurate. This program can be further improved by implementing additional features such as face recognition, tracking, and identification. Overall, this program serves as a solid foundation for building more sophisticated facial recognition systems.\n"
      ],
      "metadata": {
        "id": "rX2u139DwZqB"
      }
    }
  ]
}
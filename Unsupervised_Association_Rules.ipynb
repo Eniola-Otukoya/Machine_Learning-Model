{
 "cells": [
  {
   "cell_type": "markdown",
   "id": "a0c20342-3d8a-4a3f-ba37-2a422576513e",
   "metadata": {},
   "source": [
    "# Unsupervised Association Rules"
   ]
  },
  {
   "cell_type": "markdown",
   "id": "569fe811-b120-439d-90ff-bf0fcf92dc02",
   "metadata": {},
   "source": [
    " What You're Aiming For\n",
    "\n",
    "In this checkpoint, we are going to work on 'Customer purchases history' dataset provided by Kaggle\n",
    "\n",
    "Dataset description: This dataset contains historical records for customer purchases from a supermarket X. The objective is to find the association rules to help supermarket owners find new marketing plans to improve their sales.\n",
    "\n",
    "➡️ Dataset link\n",
    "\n",
    "🚧 Each row correspond to one purchase\n",
    "\n",
    "https://i.imgur.com/uYpSaHm.png"
   ]
  },
  {
   "cell_type": "markdown",
   "id": "d2793037-e764-499e-a0db-8a660024f9fc",
   "metadata": {},
   "source": [
    "    ['Sunglasses', 'Skirt', 'Sneakers', 'Pants', 'Hat'],\n",
    "\n",
    "\n",
    "    ['Dress', 'Sandals', 'Scarf', 'Pants', 'Heels'],\n",
    "\n",
    "\n",
    "    ['Dress', 'Necklace', 'Earrings', 'Scarf', 'Hat', 'Heels', 'Hat'],\n",
    "\n",
    "\n",
    "  ['Earrings', 'Skirt', 'Skirt', 'Scarf', 'Shirt', 'Pants']]\n",
    "\n",
    "\n",
    "Run the apriori algorithm on the provided toy_dataset. Interpret the results.\n",
    "\n",
    "Try to explore the checkpoint dataset using Pandas and Plotly.\n",
    "\n",
    "Run the apriori algorithm on checkpoint dataset. Interpret the results and suggest a clear business plan to the supermarket owners based on your findings."
   ]
  },
  {
   "cell_type": "code",
   "execution_count": 155,
   "id": "ba253b4f-6792-4f7f-ae6c-2ef41ffe80ee",
   "metadata": {},
   "outputs": [
    {
     "name": "stdout",
     "output_type": "stream",
     "text": [
      "Requirement already satisfied: mlxtend in c:\\users\\user\\anaconda3\\lib\\site-packages (0.23.4)\n",
      "Requirement already satisfied: scipy>=1.2.1 in c:\\users\\user\\anaconda3\\lib\\site-packages (from mlxtend) (1.13.1)\n",
      "Requirement already satisfied: numpy>=1.16.2 in c:\\users\\user\\anaconda3\\lib\\site-packages (from mlxtend) (1.26.4)\n",
      "Requirement already satisfied: pandas>=0.24.2 in c:\\users\\user\\anaconda3\\lib\\site-packages (from mlxtend) (2.2.2)\n",
      "Requirement already satisfied: scikit-learn>=1.3.1 in c:\\users\\user\\anaconda3\\lib\\site-packages (from mlxtend) (1.5.1)\n",
      "Requirement already satisfied: matplotlib>=3.0.0 in c:\\users\\user\\anaconda3\\lib\\site-packages (from mlxtend) (3.8.4)\n",
      "Requirement already satisfied: joblib>=0.13.2 in c:\\users\\user\\anaconda3\\lib\\site-packages (from mlxtend) (1.4.2)\n",
      "Requirement already satisfied: contourpy>=1.0.1 in c:\\users\\user\\anaconda3\\lib\\site-packages (from matplotlib>=3.0.0->mlxtend) (1.2.0)\n",
      "Requirement already satisfied: cycler>=0.10 in c:\\users\\user\\anaconda3\\lib\\site-packages (from matplotlib>=3.0.0->mlxtend) (0.11.0)\n",
      "Requirement already satisfied: fonttools>=4.22.0 in c:\\users\\user\\anaconda3\\lib\\site-packages (from matplotlib>=3.0.0->mlxtend) (4.51.0)\n",
      "Requirement already satisfied: kiwisolver>=1.3.1 in c:\\users\\user\\anaconda3\\lib\\site-packages (from matplotlib>=3.0.0->mlxtend) (1.4.4)\n",
      "Requirement already satisfied: packaging>=20.0 in c:\\users\\user\\anaconda3\\lib\\site-packages (from matplotlib>=3.0.0->mlxtend) (24.1)\n",
      "Requirement already satisfied: pillow>=8 in c:\\users\\user\\anaconda3\\lib\\site-packages (from matplotlib>=3.0.0->mlxtend) (10.4.0)\n",
      "Requirement already satisfied: pyparsing>=2.3.1 in c:\\users\\user\\anaconda3\\lib\\site-packages (from matplotlib>=3.0.0->mlxtend) (3.0.9)\n",
      "Requirement already satisfied: python-dateutil>=2.7 in c:\\users\\user\\anaconda3\\lib\\site-packages (from matplotlib>=3.0.0->mlxtend) (2.9.0.post0)\n",
      "Requirement already satisfied: pytz>=2020.1 in c:\\users\\user\\anaconda3\\lib\\site-packages (from pandas>=0.24.2->mlxtend) (2024.1)\n",
      "Requirement already satisfied: tzdata>=2022.7 in c:\\users\\user\\anaconda3\\lib\\site-packages (from pandas>=0.24.2->mlxtend) (2023.3)\n",
      "Requirement already satisfied: threadpoolctl>=3.1.0 in c:\\users\\user\\anaconda3\\lib\\site-packages (from scikit-learn>=1.3.1->mlxtend) (3.5.0)\n",
      "Requirement already satisfied: six>=1.5 in c:\\users\\user\\anaconda3\\lib\\site-packages (from python-dateutil>=2.7->matplotlib>=3.0.0->mlxtend) (1.16.0)\n",
      "Note: you may need to restart the kernel to use updated packages.\n"
     ]
    }
   ],
   "source": [
    "pip install mlxtend"
   ]
  },
  {
   "cell_type": "code",
   "execution_count": 195,
   "id": "0eec0f7a-09f7-42e8-a57d-c9efa49a240b",
   "metadata": {},
   "outputs": [],
   "source": [
    "from mlxtend.frequent_patterns import apriori"
   ]
  },
  {
   "cell_type": "code",
   "execution_count": 197,
   "id": "0129c89a-f9e0-4e55-acaa-cda0e95ee587",
   "metadata": {},
   "outputs": [],
   "source": [
    "# import necessary libraries\n",
    "import pandas as pd\n",
    "\n",
    "from mlxtend.frequent_patterns import apriori, association_rules\n",
    "\n",
    "import matplotlib.pyplot as plt\n",
    "\n",
    "import seaborn as sns"
   ]
  },
  {
   "cell_type": "markdown",
   "id": "592343b0-2d87-4523-a8bd-3070415bce1c",
   "metadata": {},
   "source": [
    "### Run the Apriori Algorithm on the Toy Dataset\n",
    "### Create the Toy Dataset"
   ]
  },
  {
   "cell_type": "code",
   "execution_count": 160,
   "id": "7a8b1360-d776-4331-889f-bf7aaf29f0b2",
   "metadata": {},
   "outputs": [],
   "source": [
    "# Toy dataset\n",
    "\n",
    "toy_dataset = [['Skirt', 'Sneakers', 'Scarf', 'Pants', 'Hat'],\n",
    "\n",
    "               ['Sunglasses', 'Skirt', 'Sneakers', 'Pants', 'Hat'],\n",
    "\n",
    "               ['Dress', 'Sandals', 'Scarf', 'Pants', 'Heels'],\n",
    "\n",
    "               ['Dress', 'Necklace', 'Earrings', 'Scarf', 'Hat', 'Heels', 'Hat'],\n",
    "\n",
    "               ['Earrings', 'Skirt', 'Skirt', 'Scarf', 'Shirt', 'Pants']]\n",
    "\n",
    "\n",
    "# Convert the toy dataset into a DataFrame\n",
    "\n",
    "from mlxtend.preprocessing import TransactionEncoder\n",
    "\n",
    "\n",
    "encoder = TransactionEncoder()\n",
    "\n",
    "onehot = encoder.fit(toy_dataset).transform(toy_dataset)\n",
    "\n",
    "toy_df = pd.DataFrame(onehot, columns=encoder.columns_)"
   ]
  },
  {
   "cell_type": "code",
   "execution_count": 162,
   "id": "6e92c716-9cab-4ba3-a087-4f76e0deaf4e",
   "metadata": {},
   "outputs": [
    {
     "name": "stdout",
     "output_type": "stream",
     "text": [
      "    support                       itemsets\n",
      "0       0.4                        (Dress)\n",
      "1       0.4                     (Earrings)\n",
      "2       0.6                          (Hat)\n",
      "3       0.4                        (Heels)\n",
      "4       0.8                        (Pants)\n",
      "5       0.8                        (Scarf)\n",
      "6       0.6                        (Skirt)\n",
      "7       0.4                     (Sneakers)\n",
      "8       0.4                 (Heels, Dress)\n",
      "9       0.4                 (Scarf, Dress)\n",
      "10      0.4              (Earrings, Scarf)\n",
      "11      0.4                   (Hat, Pants)\n",
      "12      0.4                   (Hat, Scarf)\n",
      "13      0.4                   (Hat, Skirt)\n",
      "14      0.4                (Sneakers, Hat)\n",
      "15      0.4                 (Scarf, Heels)\n",
      "16      0.6                 (Pants, Scarf)\n",
      "17      0.6                 (Pants, Skirt)\n",
      "18      0.4              (Sneakers, Pants)\n",
      "19      0.4                 (Scarf, Skirt)\n",
      "20      0.4              (Sneakers, Skirt)\n",
      "21      0.4          (Scarf, Heels, Dress)\n",
      "22      0.4            (Hat, Pants, Skirt)\n",
      "23      0.4         (Sneakers, Hat, Pants)\n",
      "24      0.4         (Sneakers, Hat, Skirt)\n",
      "25      0.4          (Pants, Scarf, Skirt)\n",
      "26      0.4       (Sneakers, Pants, Skirt)\n",
      "27      0.4  (Sneakers, Hat, Pants, Skirt)\n",
      "       antecedents               consequents  antecedent support  \\\n",
      "0          (Heels)                   (Dress)                 0.4   \n",
      "1          (Dress)                   (Heels)                 0.4   \n",
      "2          (Scarf)                   (Dress)                 0.8   \n",
      "3          (Dress)                   (Scarf)                 0.4   \n",
      "4       (Earrings)                   (Scarf)                 0.4   \n",
      "..             ...                       ...                 ...   \n",
      "71  (Pants, Skirt)           (Sneakers, Hat)                 0.6   \n",
      "72      (Sneakers)       (Hat, Pants, Skirt)                 0.4   \n",
      "73           (Hat)  (Sneakers, Pants, Skirt)                 0.6   \n",
      "74         (Pants)    (Sneakers, Hat, Skirt)                 0.8   \n",
      "75         (Skirt)    (Sneakers, Hat, Pants)                 0.6   \n",
      "\n",
      "    consequent support  support  confidence      lift  representativity  \\\n",
      "0                  0.4      0.4    1.000000  2.500000               1.0   \n",
      "1                  0.4      0.4    1.000000  2.500000               1.0   \n",
      "2                  0.4      0.4    0.500000  1.250000               1.0   \n",
      "3                  0.8      0.4    1.000000  1.250000               1.0   \n",
      "4                  0.8      0.4    1.000000  1.250000               1.0   \n",
      "..                 ...      ...         ...       ...               ...   \n",
      "71                 0.4      0.4    0.666667  1.666667               1.0   \n",
      "72                 0.4      0.4    1.000000  2.500000               1.0   \n",
      "73                 0.4      0.4    0.666667  1.666667               1.0   \n",
      "74                 0.4      0.4    0.500000  1.250000               1.0   \n",
      "75                 0.4      0.4    0.666667  1.666667               1.0   \n",
      "\n",
      "    leverage  conviction  zhangs_metric   jaccard  certainty  kulczynski  \n",
      "0       0.24         inf       1.000000  1.000000   1.000000    1.000000  \n",
      "1       0.24         inf       1.000000  1.000000   1.000000    1.000000  \n",
      "2       0.08         1.2       1.000000  0.500000   0.166667    0.750000  \n",
      "3       0.08         inf       0.333333  0.500000   1.000000    0.750000  \n",
      "4       0.08         inf       0.333333  0.500000   1.000000    0.750000  \n",
      "..       ...         ...            ...       ...        ...         ...  \n",
      "71      0.16         1.8       1.000000  0.666667   0.444444    0.833333  \n",
      "72      0.24         inf       1.000000  1.000000   1.000000    1.000000  \n",
      "73      0.16         1.8       1.000000  0.666667   0.444444    0.833333  \n",
      "74      0.08         1.2       1.000000  0.500000   0.166667    0.750000  \n",
      "75      0.16         1.8       1.000000  0.666667   0.444444    0.833333  \n",
      "\n",
      "[76 rows x 14 columns]\n"
     ]
    }
   ],
   "source": [
    "# Run the Apriori algorithm\n",
    "\n",
    "frequent_itemsets = apriori(toy_df, min_support=0.4, use_colnames=True)\n",
    "\n",
    "print(frequent_itemsets)\n",
    "\n",
    "\n",
    "# Generate the association rules\n",
    "\n",
    "rules = association_rules(frequent_itemsets, metric=\"confidence\", min_threshold=0.5)\n",
    "\n",
    "print(rules)"
   ]
  },
  {
   "cell_type": "markdown",
   "id": "b79fcc3e-c684-4dbc-9de8-b8c1e74c838f",
   "metadata": {},
   "source": [
    "### Step 3: Interpret the Results\n",
    "\n",
    "*    Frequent Itemsets: The output of the apriori function will show the itemsets that meet the minimum support threshold. For example, if \"Skirt\" and \"Sneakers\" appear together in more than 40% of transactions, they will be listed.\n",
    "\n",
    "*    Association Rules: The association_rules function will provide rules based on the frequent itemsets, showing the relationships between items. For example, a rule might indicate that if a customer buys \"Skirt,\" they are likely to also buy \"Sneakers\" with a certain confidence level.\n"
   ]
  },
  {
   "cell_type": "markdown",
   "id": "0eb9190c-9338-44c9-8c49-06d2b3282370",
   "metadata": {},
   "source": [
    " ### Explore the toy_dataset Dataset"
   ]
  },
  {
   "cell_type": "code",
   "execution_count": 166,
   "id": "727cd252-7d23-4be1-bd7a-e433bd6d88fa",
   "metadata": {},
   "outputs": [
    {
     "name": "stdout",
     "output_type": "stream",
     "text": [
      "           shrimp    almonds     avocado    vegetables mix green grapes  \\\n",
      "0         burgers  meatballs        eggs               NaN          NaN   \n",
      "1         chutney        NaN         NaN               NaN          NaN   \n",
      "2          turkey    avocado         NaN               NaN          NaN   \n",
      "3   mineral water       milk  energy bar  whole wheat rice    green tea   \n",
      "4  low fat yogurt        NaN         NaN               NaN          NaN   \n",
      "\n",
      "  whole weat flour yams cottage cheese energy drink tomato juice  \\\n",
      "0              NaN  NaN            NaN          NaN          NaN   \n",
      "1              NaN  NaN            NaN          NaN          NaN   \n",
      "2              NaN  NaN            NaN          NaN          NaN   \n",
      "3              NaN  NaN            NaN          NaN          NaN   \n",
      "4              NaN  NaN            NaN          NaN          NaN   \n",
      "\n",
      "  low fat yogurt green tea honey salad mineral water salmon antioxydant juice  \\\n",
      "0            NaN       NaN   NaN   NaN           NaN    NaN               NaN   \n",
      "1            NaN       NaN   NaN   NaN           NaN    NaN               NaN   \n",
      "2            NaN       NaN   NaN   NaN           NaN    NaN               NaN   \n",
      "3            NaN       NaN   NaN   NaN           NaN    NaN               NaN   \n",
      "4            NaN       NaN   NaN   NaN           NaN    NaN               NaN   \n",
      "\n",
      "  frozen smoothie spinach  olive oil  \n",
      "0             NaN     NaN        NaN  \n",
      "1             NaN     NaN        NaN  \n",
      "2             NaN     NaN        NaN  \n",
      "3             NaN     NaN        NaN  \n",
      "4             NaN     NaN        NaN  \n"
     ]
    }
   ],
   "source": [
    "# Load the toy_dataset\n",
    "\n",
    "toy_dataset = pd.read_csv(r\"C:\\Users\\User\\Desktop\\gomycode\\Machine Learning\\Market_Basket_Optimisation.csv\")\n",
    "\n",
    "\n",
    "# Display the first few rows of the dataset\n",
    "\n",
    "print(toy_dataset.head())"
   ]
  },
  {
   "cell_type": "markdown",
   "id": "45cfeda9-48e8-4b8e-9113-7911d9fa3667",
   "metadata": {},
   "source": [
    "### Data Exploration"
   ]
  },
  {
   "cell_type": "code",
   "execution_count": 199,
   "id": "34accf8f-eafd-41c1-a34a-7838beb7f15f",
   "metadata": {},
   "outputs": [
    {
     "name": "stdout",
     "output_type": "stream",
     "text": [
      "Item     0\n",
      "Count    0\n",
      "dtype: int64\n",
      "           Count\n",
      "count  28.000000\n",
      "mean   13.500000\n",
      "std     8.225975\n",
      "min     0.000000\n",
      "25%     6.750000\n",
      "50%    13.500000\n",
      "75%    20.250000\n",
      "max    27.000000\n"
     ]
    },
    {
     "data": {
      "image/png": "[encoded data removed]",
      "text/plain": [
       "<Figure size 1000x600 with 1 Axes>"
      ]
     },
     "metadata": {},
     "output_type": "display_data"
    }
   ],
   "source": [
    "# Check for missing values\n",
    "\n",
    "print(toy_dataset.isnull().sum())\n",
    "\n",
    "\n",
    "# Basic statistics\n",
    "\n",
    "print(toy_dataset.describe())\n",
    "\n",
    "\n",
    "# Visualize the data distribution\n",
    "\n",
    "plt.figure(figsize=(10, 6))\n",
    "\n",
    "sns.countplot(data=toy_dataset, x='Item') \n",
    "\n",
    "plt.xticks(rotation=90)\n",
    "\n",
    "plt.title('Item Purchase Distribution')\n",
    "\n",
    "plt.show()"
   ]
  },
  {
   "cell_type": "code",
   "execution_count": 171,
   "id": "6785dab8-1936-4cf3-b519-cece1271beb9",
   "metadata": {},
   "outputs": [
    {
     "name": "stdout",
     "output_type": "stream",
     "text": [
      "Index(['shrimp', 'almonds', 'avocado', 'vegetables mix', 'green grapes',\n",
      "       'whole weat flour', 'yams', 'cottage cheese', 'energy drink',\n",
      "       'tomato juice', 'low fat yogurt', 'green tea', 'honey', 'salad',\n",
      "       'mineral water', 'salmon', 'antioxydant juice', 'frozen smoothie',\n",
      "       'spinach', 'olive oil'],\n",
      "      dtype='object')\n"
     ]
    }
   ],
   "source": [
    "print(toy_dataset.columns)"
   ]
  },
  {
   "cell_type": "code",
   "execution_count": 173,
   "id": "d094780e-6d65-4c89-b359-4e6c15d86c81",
   "metadata": {},
   "outputs": [
    {
     "name": "stdout",
     "output_type": "stream",
     "text": [
      "           shrimp    almonds     avocado    vegetables mix green grapes  \\\n",
      "0         burgers  meatballs        eggs               NaN          NaN   \n",
      "1         chutney        NaN         NaN               NaN          NaN   \n",
      "2          turkey    avocado         NaN               NaN          NaN   \n",
      "3   mineral water       milk  energy bar  whole wheat rice    green tea   \n",
      "4  low fat yogurt        NaN         NaN               NaN          NaN   \n",
      "\n",
      "  whole weat flour yams cottage cheese energy drink tomato juice  \\\n",
      "0              NaN  NaN            NaN          NaN          NaN   \n",
      "1              NaN  NaN            NaN          NaN          NaN   \n",
      "2              NaN  NaN            NaN          NaN          NaN   \n",
      "3              NaN  NaN            NaN          NaN          NaN   \n",
      "4              NaN  NaN            NaN          NaN          NaN   \n",
      "\n",
      "  low fat yogurt green tea honey salad mineral water salmon antioxydant juice  \\\n",
      "0            NaN       NaN   NaN   NaN           NaN    NaN               NaN   \n",
      "1            NaN       NaN   NaN   NaN           NaN    NaN               NaN   \n",
      "2            NaN       NaN   NaN   NaN           NaN    NaN               NaN   \n",
      "3            NaN       NaN   NaN   NaN           NaN    NaN               NaN   \n",
      "4            NaN       NaN   NaN   NaN           NaN    NaN               NaN   \n",
      "\n",
      "  frozen smoothie spinach  olive oil  \n",
      "0             NaN     NaN        NaN  \n",
      "1             NaN     NaN        NaN  \n",
      "2             NaN     NaN        NaN  \n",
      "3             NaN     NaN        NaN  \n",
      "4             NaN     NaN        NaN  \n"
     ]
    }
   ],
   "source": [
    "print(toy_dataset.head())"
   ]
  },
  {
   "cell_type": "code",
   "execution_count": 175,
   "id": "1d208c26-d302-496f-8e24-a57667f623fd",
   "metadata": {},
   "outputs": [],
   "source": [
    "# Strip whitespace from column names\n",
    "toy_dataset.columns = toy_dataset.columns.str.strip()"
   ]
  },
  {
   "cell_type": "code",
   "execution_count": 179,
   "id": "e7adc781-1c74-442d-ad73-30e268bf6b2e",
   "metadata": {},
   "outputs": [
    {
     "name": "stdout",
     "output_type": "stream",
     "text": [
      "Columns in DataFrame: Index(['Item', 'Count'], dtype='object')\n",
      "       Item  Count\n",
      "0     Skirt      0\n",
      "1  Sneakers      1\n",
      "2     Scarf      2\n",
      "3     Pants      3\n",
      "4       Hat      4\n"
     ]
    },
    {
     "data": {
      "image/png": "[encoded data removed]",
      "text/plain": [
       "<Figure size 1000x600 with 1 Axes>"
      ]
     },
     "metadata": {},
     "output_type": "display_data"
    }
   ],
   "source": [
    "import pandas as pd\n",
    "import seaborn as sns\n",
    "import matplotlib.pyplot as plt\n",
    "\n",
    "toy_dataset = pd.DataFrame({\n",
    "\n",
    "    'Item':    ['Skirt', 'Sneakers', 'Scarf', 'Pants', 'Hat', 'Sunglasses', 'Skirt', 'Sneakers', 'Pants', 'Hat', 'Dress', 'Sandals', 'Scarf', 'Pants', 'Heels', 'Dress', 'Necklace', 'Earrings', 'Scarf', 'Hat', 'Heels', 'Hat', 'Earrings', 'Skirt', 'Skirt', 'Scarf', 'Shirt', 'Pants'],\n",
    "\n",
    "    'Count': [0, 1, 2, 3, 4, 5, 6, 7, 8, 9, 10, 11, 12, 13, 14, 15, 16, 17, 18, 19, 20, 21, 22, 23, 24, 25, 26, 27]\n",
    "})\n",
    "\n",
    "# Check available columns\n",
    "\n",
    "print(\"Columns in DataFrame:\", toy_dataset.columns)\n",
    "\n",
    "# Check the first few rows\n",
    "\n",
    "print(toy_dataset.head())\n",
    "\n",
    "\n",
    "# Strip whitespace from column names\n",
    "\n",
    "toy_dataset.columns = toy_dataset.columns.str.strip()\n",
    "\n",
    "\n",
    "# Visualize the data distribution\n",
    "plt.figure(figsize=(10, 6))\n",
    "sns.countplot(data=toy_dataset, x='Item') \n",
    "plt.xticks(rotation=90)\n",
    "plt.title('Item Purchase Distribution')\n",
    "plt.show()"
   ]
  },
  {
   "cell_type": "code",
   "execution_count": 181,
   "id": "2c8bf507-f830-4ea3-b480-b204007e0df5",
   "metadata": {},
   "outputs": [
    {
     "name": "stdout",
     "output_type": "stream",
     "text": [
      "Index(['Item', 'Count'], dtype='object')\n"
     ]
    }
   ],
   "source": [
    "print(toy_dataset.columns)"
   ]
  },
  {
   "cell_type": "markdown",
   "id": "578fe57d-f9e4-4b22-96c9-16003fc0d5cc",
   "metadata": {},
   "source": [
    "### Run the Apriori Algorithm on the toy Dataset\n",
    "Prepare the Data"
   ]
  },
  {
   "cell_type": "code",
   "execution_count": 205,
   "id": "544448e1-b83c-4f77-ab36-ce980a3726e3",
   "metadata": {},
   "outputs": [
    {
     "name": "stdout",
     "output_type": "stream",
     "text": [
      "   Dress  Earrings    Hat  Heels  Necklace  Pants  Sandals  Scarf  Shirt  \\\n",
      "0  False     False   True  False     False   True    False   True  False   \n",
      "1  False     False   True  False     False   True    False  False  False   \n",
      "2   True     False  False   True     False   True     True   True  False   \n",
      "3   True      True   True   True      True  False    False   True  False   \n",
      "4  False      True  False  False     False   True    False   True   True   \n",
      "\n",
      "   Skirt  Sneakers  Sunglasses  \n",
      "0   True      True       False  \n",
      "1   True      True        True  \n",
      "2  False     False       False  \n",
      "3  False     False       False  \n",
      "4   True     False       False  \n"
     ]
    }
   ],
   "source": [
    "from mlxtend.preprocessing import TransactionEncoder\n",
    "import pandas as pd\n",
    "\n",
    "# Toy dataset\n",
    "toy_dataset = [\n",
    "    ['Skirt', 'Sneakers', 'Scarf', 'Pants', 'Hat'],\n",
    "    ['Sunglasses', 'Skirt', 'Sneakers', 'Pants', 'Hat'],\n",
    "    ['Dress', 'Sandals', 'Scarf', 'Pants', 'Heels'],\n",
    "    ['Dress', 'Necklace', 'Earrings', 'Scarf', 'Hat', 'Heels', 'Hat'],\n",
    "    ['Earrings', 'Skirt', 'Skirt', 'Scarf', 'Shirt', 'Pants']\n",
    "]\n",
    "\n",
    "# Convert the dataset into a one-hot encoded DataFrame\n",
    "te = TransactionEncoder()\n",
    "te_ary = te.fit(toy_dataset).transform(toy_dataset)\n",
    "df = pd.DataFrame(te_ary, columns=te.columns_)\n",
    "\n",
    "print(df)"
   ]
  },
  {
   "cell_type": "code",
   "execution_count": 207,
   "id": "2322f227-5cbb-4eca-93ef-5d37a120556c",
   "metadata": {},
   "outputs": [
    {
     "name": "stdout",
     "output_type": "stream",
     "text": [
      "Frequent Itemsets:\n",
      "   support        itemsets\n",
      "0      0.6           (Hat)\n",
      "1      0.8         (Pants)\n",
      "2      0.8         (Scarf)\n",
      "3      0.6         (Skirt)\n",
      "4      0.6  (Pants, Scarf)\n",
      "5      0.6  (Pants, Skirt)\n",
      "\n",
      "Association Rules:\n",
      "  antecedents consequents  antecedent support  consequent support  support  \\\n",
      "0     (Pants)     (Scarf)                 0.8                 0.8      0.6   \n",
      "1     (Scarf)     (Pants)                 0.8                 0.8      0.6   \n",
      "2     (Pants)     (Skirt)                 0.8                 0.6      0.6   \n",
      "3     (Skirt)     (Pants)                 0.6                 0.8      0.6   \n",
      "\n",
      "   confidence    lift  representativity  leverage  conviction  zhangs_metric  \\\n",
      "0        0.75  0.9375               1.0     -0.04         0.8          -0.25   \n",
      "1        0.75  0.9375               1.0     -0.04         0.8          -0.25   \n",
      "2        0.75  1.2500               1.0      0.12         1.6           1.00   \n",
      "3        1.00  1.2500               1.0      0.12         inf           0.50   \n",
      "\n",
      "   jaccard  certainty  kulczynski  \n",
      "0     0.60     -0.250       0.750  \n",
      "1     0.60     -0.250       0.750  \n",
      "2     0.75      0.375       0.875  \n",
      "3     0.75      1.000       0.875  \n"
     ]
    }
   ],
   "source": [
    "from mlxtend.frequent_patterns import apriori\n",
    "from mlxtend.frequent_patterns import association_rules\n",
    "\n",
    "# Run the Apriori algorithm\n",
    "frequent_itemsets = apriori(df, min_support=0.5, use_colnames=True)\n",
    "\n",
    "# Generate association rules\n",
    "rules = association_rules(frequent_itemsets, metric=\"confidence\", min_threshold=0.7)\n",
    "\n",
    "# Display the results\n",
    "print(\"Frequent Itemsets:\")\n",
    "print(frequent_itemsets)\n",
    "\n",
    "print(\"\\nAssociation Rules:\")\n",
    "print(rules)"
   ]
  },
  {
   "cell_type": "code",
   "execution_count": null,
   "id": "6f730bd0-7a3a-4f97-a49c-a803b404a123",
   "metadata": {},
   "outputs": [],
   "source": [
    "# Run the Apriori algorithm on the checkpoint dataset\n",
    "\n",
    "frequent_itemsets_checkpoint = apriori(checkpoint_df, min_support=0.05, use_colnames=True)\n",
    "\n",
    "print(frequent_itemsets_checkpoint)\n",
    "\n",
    "\n",
    "# Generate the association rules\n",
    "\n",
    "rules_checkpoint = association_rules(frequent_itemsets_checkpoint, metric=\"confidence\", min_threshold=0.5)\n",
    "\n",
    "print(rules_checkpoint)"
   ]
  },
  {
   "cell_type": "markdown",
   "id": "ca286115-08cf-48a9-89ad-7bd111e5bea6",
   "metadata": {},
   "source": [
    "### Interpret the Results and Suggest a Business Plan\n",
    "\n",
    "*    Frequent Itemsets: Analyze the frequent itemsets to identify which products are commonly purchased together. For example, if \"Milk\" and \"Bread\" are frequently bought together, this indicates a strong association.\n",
    "\n",
    "*    Association Rules: Look at the rules generated to understand customer behavior. For instance, if the rule shows that customers who buy \"Diapers\" also tend to buy \"Wipes,\" this can inform marketing strategies.\n"
   ]
  }
 ],
 "metadata": {
  "kernelspec": {
   "display_name": "Python 3 (ipykernel)",
   "language": "python",
   "name": "python3"
  },
  "language_info": {
   "codemirror_mode": {
    "name": "ipython",
    "version": 3
   },
   "file_extension": ".py",
   "mimetype": "text/x-python",
   "name": "python",
   "nbconvert_exporter": "python",
   "pygments_lexer": "ipython3",
   "version": "3.12.7"
  }
 },
 "nbformat": 4,
 "nbformat_minor": 5
}
